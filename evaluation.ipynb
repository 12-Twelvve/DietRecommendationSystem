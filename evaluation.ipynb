{
 "cells": [
  {
   "cell_type": "code",
   "execution_count": 3,
   "id": "15c93c46",
   "metadata": {},
   "outputs": [],
   "source": [
    "import pandas as pd\n",
    "import numpy as np\n"
   ]
  },
  {
   "cell_type": "code",
   "execution_count": 4,
   "id": "a1b28ab4",
   "metadata": {
    "scrolled": true
   },
   "outputs": [],
   "source": [
    "bf_df = pd.read_csv('breakfast.csv')\n",
    "l_df = pd.read_csv('lunch.csv')\n",
    "d_df = pd.read_csv('dinner.csv')"
   ]
  },
  {
   "cell_type": "markdown",
   "id": "10d995b4",
   "metadata": {},
   "source": [
    "Breakfast"
   ]
  },
  {
   "cell_type": "code",
   "execution_count": 23,
   "id": "17eae046",
   "metadata": {},
   "outputs": [
    {
     "data": {
      "text/html": [
       "<div>\n",
       "<style scoped>\n",
       "    .dataframe tbody tr th:only-of-type {\n",
       "        vertical-align: middle;\n",
       "    }\n",
       "\n",
       "    .dataframe tbody tr th {\n",
       "        vertical-align: top;\n",
       "    }\n",
       "\n",
       "    .dataframe thead th {\n",
       "        text-align: right;\n",
       "    }\n",
       "</style>\n",
       "<table border=\"1\" class=\"dataframe\">\n",
       "  <thead>\n",
       "    <tr style=\"text-align: right;\">\n",
       "      <th></th>\n",
       "      <th>Unnamed: 0</th>\n",
       "      <th>Food_items</th>\n",
       "      <th>Calories</th>\n",
       "      <th>Fats</th>\n",
       "      <th>Proteins</th>\n",
       "      <th>Iron</th>\n",
       "      <th>Calcium</th>\n",
       "      <th>Sodium</th>\n",
       "      <th>Potassium</th>\n",
       "      <th>Carbohydrates</th>\n",
       "      <th>Fibre</th>\n",
       "      <th>VitaminD</th>\n",
       "      <th>Sugars</th>\n",
       "      <th>label</th>\n",
       "    </tr>\n",
       "  </thead>\n",
       "  <tbody>\n",
       "    <tr>\n",
       "      <th>0</th>\n",
       "      <td>1</td>\n",
       "      <td>Avocados</td>\n",
       "      <td>160</td>\n",
       "      <td>15.0</td>\n",
       "      <td>2.0</td>\n",
       "      <td>0.55</td>\n",
       "      <td>12.0</td>\n",
       "      <td>7</td>\n",
       "      <td>485.0</td>\n",
       "      <td>8.5</td>\n",
       "      <td>6.7</td>\n",
       "      <td>0</td>\n",
       "      <td>0.7</td>\n",
       "      <td>1</td>\n",
       "    </tr>\n",
       "    <tr>\n",
       "      <th>1</th>\n",
       "      <td>2</td>\n",
       "      <td>Bananas</td>\n",
       "      <td>89</td>\n",
       "      <td>0.3</td>\n",
       "      <td>1.1</td>\n",
       "      <td>0.26</td>\n",
       "      <td>5.0</td>\n",
       "      <td>1</td>\n",
       "      <td>358.0</td>\n",
       "      <td>23.0</td>\n",
       "      <td>2.6</td>\n",
       "      <td>0</td>\n",
       "      <td>12.0</td>\n",
       "      <td>1</td>\n",
       "    </tr>\n",
       "    <tr>\n",
       "      <th>2</th>\n",
       "      <td>4</td>\n",
       "      <td>Berries</td>\n",
       "      <td>349</td>\n",
       "      <td>0.4</td>\n",
       "      <td>14.0</td>\n",
       "      <td>6.80</td>\n",
       "      <td>190.0</td>\n",
       "      <td>298</td>\n",
       "      <td>77.0</td>\n",
       "      <td>77.0</td>\n",
       "      <td>13.0</td>\n",
       "      <td>0</td>\n",
       "      <td>46.0</td>\n",
       "      <td>4</td>\n",
       "    </tr>\n",
       "    <tr>\n",
       "      <th>3</th>\n",
       "      <td>8</td>\n",
       "      <td>American cheese</td>\n",
       "      <td>331</td>\n",
       "      <td>24.0</td>\n",
       "      <td>20.0</td>\n",
       "      <td>0.84</td>\n",
       "      <td>497.0</td>\n",
       "      <td>966</td>\n",
       "      <td>363.0</td>\n",
       "      <td>8.3</td>\n",
       "      <td>0.0</td>\n",
       "      <td>0</td>\n",
       "      <td>0.0</td>\n",
       "      <td>2</td>\n",
       "    </tr>\n",
       "    <tr>\n",
       "      <th>4</th>\n",
       "      <td>9</td>\n",
       "      <td>Coffee</td>\n",
       "      <td>2</td>\n",
       "      <td>0.0</td>\n",
       "      <td>0.3</td>\n",
       "      <td>0.02</td>\n",
       "      <td>2.0</td>\n",
       "      <td>1</td>\n",
       "      <td>50.0</td>\n",
       "      <td>0.2</td>\n",
       "      <td>0.0</td>\n",
       "      <td>0</td>\n",
       "      <td>0.0</td>\n",
       "      <td>1</td>\n",
       "    </tr>\n",
       "  </tbody>\n",
       "</table>\n",
       "</div>"
      ],
      "text/plain": [
       "   Unnamed: 0       Food_items  Calories  Fats  Proteins  Iron  Calcium  \\\n",
       "0           1         Avocados       160  15.0       2.0  0.55     12.0   \n",
       "1           2          Bananas        89   0.3       1.1  0.26      5.0   \n",
       "2           4          Berries       349   0.4      14.0  6.80    190.0   \n",
       "3           8  American cheese       331  24.0      20.0  0.84    497.0   \n",
       "4           9           Coffee         2   0.0       0.3  0.02      2.0   \n",
       "\n",
       "   Sodium  Potassium  Carbohydrates  Fibre  VitaminD  Sugars  label  \n",
       "0       7      485.0            8.5    6.7         0     0.7      1  \n",
       "1       1      358.0           23.0    2.6         0    12.0      1  \n",
       "2     298       77.0           77.0   13.0         0    46.0      4  \n",
       "3     966      363.0            8.3    0.0         0     0.0      2  \n",
       "4       1       50.0            0.2    0.0         0     0.0      1  "
      ]
     },
     "execution_count": 23,
     "metadata": {},
     "output_type": "execute_result"
    }
   ],
   "source": [
    "bf_df.head()"
   ]
  },
  {
   "cell_type": "code",
   "execution_count": 24,
   "id": "e7d8f6ec",
   "metadata": {},
   "outputs": [],
   "source": [
    "X_bf = bf_df.iloc[:, 2:-1]"
   ]
  },
  {
   "cell_type": "code",
   "execution_count": 14,
   "id": "a91d90b9",
   "metadata": {},
   "outputs": [],
   "source": [
    "from sklearn import preprocessing\n",
    "X_bf = preprocessing.normalize(X_bf)\n",
    "X_bf = np.array(X_bf)"
   ]
  },
  {
   "cell_type": "code",
   "execution_count": 15,
   "id": "344f3044",
   "metadata": {},
   "outputs": [],
   "source": [
    "from sklearn.cluster import KMeans\n",
    "cluster = KMeans(n_clusters=5, init='k-means++', \n",
    "                 max_iter=300, \n",
    "                 tol=0.0001, verbose=0, random_state=0, \n",
    "                 copy_x=True, algorithm='elkan').fit(X_bf)"
   ]
  },
  {
   "cell_type": "code",
   "execution_count": 17,
   "id": "42544311",
   "metadata": {},
   "outputs": [
    {
     "data": {
      "text/plain": [
       "0.33341138689863964"
      ]
     },
     "execution_count": 17,
     "metadata": {},
     "output_type": "execute_result"
    }
   ],
   "source": [
    "from sklearn.metrics import silhouette_score\n",
    "\n",
    "silhouette_score(X_bf, cluster.labels_, metric='euclidean')"
   ]
  },
  {
   "cell_type": "code",
   "execution_count": 18,
   "id": "3e27a7ba",
   "metadata": {},
   "outputs": [],
   "source": [
    "K = range(3,10)\n",
    "fits = []\n",
    "score = []\n",
    "for k in K:\n",
    "    # train the model for current value of k on training data\n",
    "    model = KMeans(n_clusters = k,init='k-means++', random_state = 0).fit(X_bf)\n",
    "    # append the model to fits\n",
    "    fits.append(model)\n",
    "    # Append the silhouette score to scores\n",
    "    score.append(silhouette_score(X_bf, model.labels_, metric='euclidean'))"
   ]
  },
  {
   "cell_type": "code",
   "execution_count": 19,
   "id": "24a4dd30",
   "metadata": {
    "scrolled": false
   },
   "outputs": [
    {
     "data": {
      "text/plain": [
       "<AxesSubplot:>"
      ]
     },
     "execution_count": 19,
     "metadata": {},
     "output_type": "execute_result"
    },
    {
     "data": {
      "image/png": "[encoded data removed]",
      "text/plain": [
       "<Figure size 640x480 with 1 Axes>"
      ]
     },
     "metadata": {},
     "output_type": "display_data"
    }
   ],
   "source": [
    "import seaborn as sns\n",
    "sns.lineplot(x = K, y = score)"
   ]
  },
  {
   "cell_type": "markdown",
   "id": "51ef05ee",
   "metadata": {},
   "source": [
    "Lunch data"
   ]
  },
  {
   "cell_type": "code",
   "execution_count": 22,
   "id": "3a8ce101",
   "metadata": {},
   "outputs": [
    {
     "data": {
      "text/html": [
       "<div>\n",
       "<style scoped>\n",
       "    .dataframe tbody tr th:only-of-type {\n",
       "        vertical-align: middle;\n",
       "    }\n",
       "\n",
       "    .dataframe tbody tr th {\n",
       "        vertical-align: top;\n",
       "    }\n",
       "\n",
       "    .dataframe thead th {\n",
       "        text-align: right;\n",
       "    }\n",
       "</style>\n",
       "<table border=\"1\" class=\"dataframe\">\n",
       "  <thead>\n",
       "    <tr style=\"text-align: right;\">\n",
       "      <th></th>\n",
       "      <th>Unnamed: 0</th>\n",
       "      <th>Food_items</th>\n",
       "      <th>Calories</th>\n",
       "      <th>Fats</th>\n",
       "      <th>Proteins</th>\n",
       "      <th>Iron</th>\n",
       "      <th>Calcium</th>\n",
       "      <th>Sodium</th>\n",
       "      <th>Potassium</th>\n",
       "      <th>Carbohydrates</th>\n",
       "      <th>Fibre</th>\n",
       "      <th>VitaminD</th>\n",
       "      <th>Sugars</th>\n",
       "      <th>label</th>\n",
       "    </tr>\n",
       "  </thead>\n",
       "  <tbody>\n",
       "    <tr>\n",
       "      <th>0</th>\n",
       "      <td>0</td>\n",
       "      <td>Asparagus Cooked</td>\n",
       "      <td>22</td>\n",
       "      <td>0.2</td>\n",
       "      <td>2.4</td>\n",
       "      <td>0.91</td>\n",
       "      <td>23.0</td>\n",
       "      <td>14</td>\n",
       "      <td>224.0</td>\n",
       "      <td>4.1</td>\n",
       "      <td>2.0</td>\n",
       "      <td>0</td>\n",
       "      <td>1.3</td>\n",
       "      <td>1</td>\n",
       "    </tr>\n",
       "    <tr>\n",
       "      <th>1</th>\n",
       "      <td>3</td>\n",
       "      <td>Bagels made in wheat</td>\n",
       "      <td>250</td>\n",
       "      <td>1.5</td>\n",
       "      <td>10.0</td>\n",
       "      <td>2.76</td>\n",
       "      <td>20.0</td>\n",
       "      <td>439</td>\n",
       "      <td>165.0</td>\n",
       "      <td>49.0</td>\n",
       "      <td>4.1</td>\n",
       "      <td>0</td>\n",
       "      <td>6.1</td>\n",
       "      <td>0</td>\n",
       "    </tr>\n",
       "    <tr>\n",
       "      <th>2</th>\n",
       "      <td>5</td>\n",
       "      <td>Brocolli</td>\n",
       "      <td>25</td>\n",
       "      <td>0.5</td>\n",
       "      <td>3.8</td>\n",
       "      <td>1.27</td>\n",
       "      <td>118.0</td>\n",
       "      <td>56</td>\n",
       "      <td>343.0</td>\n",
       "      <td>3.1</td>\n",
       "      <td>2.8</td>\n",
       "      <td>0</td>\n",
       "      <td>0.6</td>\n",
       "      <td>1</td>\n",
       "    </tr>\n",
       "    <tr>\n",
       "      <th>3</th>\n",
       "      <td>6</td>\n",
       "      <td>Brown Rice</td>\n",
       "      <td>362</td>\n",
       "      <td>2.7</td>\n",
       "      <td>7.5</td>\n",
       "      <td>1.80</td>\n",
       "      <td>33.0</td>\n",
       "      <td>4</td>\n",
       "      <td>268.0</td>\n",
       "      <td>76.0</td>\n",
       "      <td>3.4</td>\n",
       "      <td>0</td>\n",
       "      <td>0.0</td>\n",
       "      <td>4</td>\n",
       "    </tr>\n",
       "    <tr>\n",
       "      <th>4</th>\n",
       "      <td>7</td>\n",
       "      <td>Cauliflower</td>\n",
       "      <td>32</td>\n",
       "      <td>0.3</td>\n",
       "      <td>3.0</td>\n",
       "      <td>0.72</td>\n",
       "      <td>32.0</td>\n",
       "      <td>259</td>\n",
       "      <td>278.0</td>\n",
       "      <td>6.3</td>\n",
       "      <td>3.3</td>\n",
       "      <td>0</td>\n",
       "      <td>0.0</td>\n",
       "      <td>3</td>\n",
       "    </tr>\n",
       "  </tbody>\n",
       "</table>\n",
       "</div>"
      ],
      "text/plain": [
       "   Unnamed: 0            Food_items  Calories  Fats  Proteins  Iron  Calcium  \\\n",
       "0           0      Asparagus Cooked        22   0.2       2.4  0.91     23.0   \n",
       "1           3  Bagels made in wheat       250   1.5      10.0  2.76     20.0   \n",
       "2           5              Brocolli        25   0.5       3.8  1.27    118.0   \n",
       "3           6            Brown Rice       362   2.7       7.5  1.80     33.0   \n",
       "4           7           Cauliflower        32   0.3       3.0  0.72     32.0   \n",
       "\n",
       "   Sodium  Potassium  Carbohydrates  Fibre  VitaminD  Sugars  label  \n",
       "0      14      224.0            4.1    2.0         0     1.3      1  \n",
       "1     439      165.0           49.0    4.1         0     6.1      0  \n",
       "2      56      343.0            3.1    2.8         0     0.6      1  \n",
       "3       4      268.0           76.0    3.4         0     0.0      4  \n",
       "4     259      278.0            6.3    3.3         0     0.0      3  "
      ]
     },
     "execution_count": 22,
     "metadata": {},
     "output_type": "execute_result"
    }
   ],
   "source": [
    "l_df.head()"
   ]
  },
  {
   "cell_type": "code",
   "execution_count": 26,
   "id": "a04dad89",
   "metadata": {},
   "outputs": [
    {
     "data": {
      "text/plain": [
       "<AxesSubplot:>"
      ]
     },
     "execution_count": 26,
     "metadata": {},
     "output_type": "execute_result"
    },
    {
     "data": {
      "image/png": "[encoded data removed]",
      "text/plain": [
       "<Figure size 640x480 with 1 Axes>"
      ]
     },
     "metadata": {},
     "output_type": "display_data"
    }
   ],
   "source": [
    "X_l = l_df.iloc[:, 2:-1]\n",
    "X_l.head()\n",
    "X_l = preprocessing.normalize(X_l)\n",
    "X_l = np.array(X_l)\n",
    "K = range(3,10)\n",
    "fits = []\n",
    "score = []\n",
    "for k in K:\n",
    "    # train the model for current value of k on training data\n",
    "    model = KMeans(n_clusters = k,init='k-means++', random_state = 0).fit(X_l)\n",
    "    # append the model to fits\n",
    "    fits.append(model)\n",
    "    # Append the silhouette score to scores\n",
    "    score.append(silhouette_score(X_l, model.labels_, metric='euclidean'))\n",
    "sns.lineplot(x = K, y = score)"
   ]
  },
  {
   "cell_type": "markdown",
   "id": "f88f943d",
   "metadata": {},
   "source": [
    "Dinner"
   ]
  },
  {
   "cell_type": "code",
   "execution_count": 25,
   "id": "d9aae2f5",
   "metadata": {},
   "outputs": [
    {
     "data": {
      "text/html": [
       "<div>\n",
       "<style scoped>\n",
       "    .dataframe tbody tr th:only-of-type {\n",
       "        vertical-align: middle;\n",
       "    }\n",
       "\n",
       "    .dataframe tbody tr th {\n",
       "        vertical-align: top;\n",
       "    }\n",
       "\n",
       "    .dataframe thead th {\n",
       "        text-align: right;\n",
       "    }\n",
       "</style>\n",
       "<table border=\"1\" class=\"dataframe\">\n",
       "  <thead>\n",
       "    <tr style=\"text-align: right;\">\n",
       "      <th></th>\n",
       "      <th>Unnamed: 0</th>\n",
       "      <th>Food_items</th>\n",
       "      <th>Calories</th>\n",
       "      <th>Fats</th>\n",
       "      <th>Proteins</th>\n",
       "      <th>Iron</th>\n",
       "      <th>Calcium</th>\n",
       "      <th>Sodium</th>\n",
       "      <th>Potassium</th>\n",
       "      <th>Carbohydrates</th>\n",
       "      <th>Fibre</th>\n",
       "      <th>VitaminD</th>\n",
       "      <th>Sugars</th>\n",
       "      <th>label</th>\n",
       "    </tr>\n",
       "  </thead>\n",
       "  <tbody>\n",
       "    <tr>\n",
       "      <th>0</th>\n",
       "      <td>0</td>\n",
       "      <td>Asparagus Cooked</td>\n",
       "      <td>22</td>\n",
       "      <td>0.2</td>\n",
       "      <td>2.4</td>\n",
       "      <td>0.91</td>\n",
       "      <td>23.0</td>\n",
       "      <td>14</td>\n",
       "      <td>224.0</td>\n",
       "      <td>4.1</td>\n",
       "      <td>2.0</td>\n",
       "      <td>0</td>\n",
       "      <td>1.3</td>\n",
       "      <td>1</td>\n",
       "    </tr>\n",
       "    <tr>\n",
       "      <th>1</th>\n",
       "      <td>3</td>\n",
       "      <td>Bagels made in wheat</td>\n",
       "      <td>250</td>\n",
       "      <td>1.5</td>\n",
       "      <td>10.0</td>\n",
       "      <td>2.76</td>\n",
       "      <td>20.0</td>\n",
       "      <td>439</td>\n",
       "      <td>165.0</td>\n",
       "      <td>49.0</td>\n",
       "      <td>4.1</td>\n",
       "      <td>0</td>\n",
       "      <td>6.1</td>\n",
       "      <td>2</td>\n",
       "    </tr>\n",
       "    <tr>\n",
       "      <th>2</th>\n",
       "      <td>5</td>\n",
       "      <td>Brocolli</td>\n",
       "      <td>25</td>\n",
       "      <td>0.5</td>\n",
       "      <td>3.8</td>\n",
       "      <td>1.27</td>\n",
       "      <td>118.0</td>\n",
       "      <td>56</td>\n",
       "      <td>343.0</td>\n",
       "      <td>3.1</td>\n",
       "      <td>2.8</td>\n",
       "      <td>0</td>\n",
       "      <td>0.6</td>\n",
       "      <td>4</td>\n",
       "    </tr>\n",
       "    <tr>\n",
       "      <th>3</th>\n",
       "      <td>6</td>\n",
       "      <td>Brown Rice</td>\n",
       "      <td>362</td>\n",
       "      <td>2.7</td>\n",
       "      <td>7.5</td>\n",
       "      <td>1.80</td>\n",
       "      <td>33.0</td>\n",
       "      <td>4</td>\n",
       "      <td>268.0</td>\n",
       "      <td>76.0</td>\n",
       "      <td>3.4</td>\n",
       "      <td>0</td>\n",
       "      <td>0.0</td>\n",
       "      <td>1</td>\n",
       "    </tr>\n",
       "    <tr>\n",
       "      <th>4</th>\n",
       "      <td>7</td>\n",
       "      <td>Cauliflower</td>\n",
       "      <td>32</td>\n",
       "      <td>0.3</td>\n",
       "      <td>3.0</td>\n",
       "      <td>0.72</td>\n",
       "      <td>32.0</td>\n",
       "      <td>259</td>\n",
       "      <td>278.0</td>\n",
       "      <td>6.3</td>\n",
       "      <td>3.3</td>\n",
       "      <td>0</td>\n",
       "      <td>0.0</td>\n",
       "      <td>4</td>\n",
       "    </tr>\n",
       "  </tbody>\n",
       "</table>\n",
       "</div>"
      ],
      "text/plain": [
       "   Unnamed: 0            Food_items  Calories  Fats  Proteins  Iron  Calcium  \\\n",
       "0           0      Asparagus Cooked        22   0.2       2.4  0.91     23.0   \n",
       "1           3  Bagels made in wheat       250   1.5      10.0  2.76     20.0   \n",
       "2           5              Brocolli        25   0.5       3.8  1.27    118.0   \n",
       "3           6            Brown Rice       362   2.7       7.5  1.80     33.0   \n",
       "4           7           Cauliflower        32   0.3       3.0  0.72     32.0   \n",
       "\n",
       "   Sodium  Potassium  Carbohydrates  Fibre  VitaminD  Sugars  label  \n",
       "0      14      224.0            4.1    2.0         0     1.3      1  \n",
       "1     439      165.0           49.0    4.1         0     6.1      2  \n",
       "2      56      343.0            3.1    2.8         0     0.6      4  \n",
       "3       4      268.0           76.0    3.4         0     0.0      1  \n",
       "4     259      278.0            6.3    3.3         0     0.0      4  "
      ]
     },
     "execution_count": 25,
     "metadata": {},
     "output_type": "execute_result"
    }
   ],
   "source": [
    "d_df.head()"
   ]
  },
  {
   "cell_type": "code",
   "execution_count": 27,
   "id": "3ebd663f",
   "metadata": {},
   "outputs": [
    {
     "data": {
      "text/plain": [
       "<AxesSubplot:>"
      ]
     },
     "execution_count": 27,
     "metadata": {},
     "output_type": "execute_result"
    },
    {
     "data": {
      "image/png": "[encoded data removed]",
      "text/plain": [
       "<Figure size 640x480 with 1 Axes>"
      ]
     },
     "metadata": {},
     "output_type": "display_data"
    }
   ],
   "source": [
    "X_d = d_df.iloc[:, 2:-1]\n",
    "X_d.head()\n",
    "X_d = preprocessing.normalize(X_d)\n",
    "X_d = np.array(X_d)\n",
    "K = range(3,10)\n",
    "fits = []\n",
    "score = []\n",
    "for k in K:\n",
    "    # train the model for current value of k on training data\n",
    "    model = KMeans(n_clusters = k,init='k-means++', random_state = 0).fit(X_d)\n",
    "    # append the model to fits\n",
    "    fits.append(model)\n",
    "    # Append the silhouette score to scores\n",
    "    score.append(silhouette_score(X_d, model.labels_, metric='euclidean'))\n",
    "sns.lineplot(x = K, y = score)"
   ]
  }
 ],
 "metadata": {
  "kernelspec": {
   "display_name": "Python 3 (ipykernel)",
   "language": "python",
   "name": "python3"
  },
  "language_info": {
   "codemirror_mode": {
    "name": "ipython",
    "version": 3
   },
   "file_extension": ".py",
   "mimetype": "text/x-python",
   "name": "python",
   "nbconvert_exporter": "python",
   "pygments_lexer": "ipython3",
   "version": "3.9.13"
  }
 },
 "nbformat": 4,
 "nbformat_minor": 5
}
