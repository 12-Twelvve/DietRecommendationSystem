{
 "cells": [
  {
   "cell_type": "code",
   "execution_count": 3,
   "metadata": {},
   "outputs": [],
   "source": [
    "import pandas as pd\n",
    "import numpy as np\n",
    "from sklearn.cluster import KMeans\n",
    "# from sklearn.model_selection import train_test_split\n",
    "# from sklearn.ensemble import RandomForestClassifier"
   ]
  },
  {
   "cell_type": "code",
   "execution_count": 4,
   "metadata": {},
   "outputs": [
    {
     "ename": "FileNotFoundError",
     "evalue": "[Errno 2] No such file or directory: 'food.csv'",
     "output_type": "error",
     "traceback": [
      "\u001b[0;31m---------------------------------------------------------------------------\u001b[0m",
      "\u001b[0;31mFileNotFoundError\u001b[0m                         Traceback (most recent call last)",
      "\u001b[0;32m/tmp/ipykernel_22185/3353646001.py\u001b[0m in \u001b[0;36m<module>\u001b[0;34m\u001b[0m\n\u001b[0;32m----> 1\u001b[0;31m \u001b[0mdata\u001b[0m\u001b[0;34m=\u001b[0m\u001b[0mpd\u001b[0m\u001b[0;34m.\u001b[0m\u001b[0mread_csv\u001b[0m\u001b[0;34m(\u001b[0m\u001b[0;34m'food.csv'\u001b[0m\u001b[0;34m)\u001b[0m\u001b[0;34m\u001b[0m\u001b[0;34m\u001b[0m\u001b[0m\n\u001b[0m\u001b[1;32m      2\u001b[0m \u001b[0mFood_itemsdata\u001b[0m\u001b[0;34m=\u001b[0m\u001b[0mdata\u001b[0m\u001b[0;34m[\u001b[0m\u001b[0;34m'Food_items'\u001b[0m\u001b[0;34m]\u001b[0m\u001b[0;34m\u001b[0m\u001b[0;34m\u001b[0m\u001b[0m\n",
      "\u001b[0;32m~/anaconda3/lib/python3.9/site-packages/pandas/util/_decorators.py\u001b[0m in \u001b[0;36mwrapper\u001b[0;34m(*args, **kwargs)\u001b[0m\n\u001b[1;32m    309\u001b[0m                     \u001b[0mstacklevel\u001b[0m\u001b[0;34m=\u001b[0m\u001b[0mstacklevel\u001b[0m\u001b[0;34m,\u001b[0m\u001b[0;34m\u001b[0m\u001b[0;34m\u001b[0m\u001b[0m\n\u001b[1;32m    310\u001b[0m                 )\n\u001b[0;32m--> 311\u001b[0;31m             \u001b[0;32mreturn\u001b[0m \u001b[0mfunc\u001b[0m\u001b[0;34m(\u001b[0m\u001b[0;34m*\u001b[0m\u001b[0margs\u001b[0m\u001b[0;34m,\u001b[0m \u001b[0;34m**\u001b[0m\u001b[0mkwargs\u001b[0m\u001b[0;34m)\u001b[0m\u001b[0;34m\u001b[0m\u001b[0;34m\u001b[0m\u001b[0m\n\u001b[0m\u001b[1;32m    312\u001b[0m \u001b[0;34m\u001b[0m\u001b[0m\n\u001b[1;32m    313\u001b[0m         \u001b[0;32mreturn\u001b[0m \u001b[0mwrapper\u001b[0m\u001b[0;34m\u001b[0m\u001b[0;34m\u001b[0m\u001b[0m\n",
      "\u001b[0;32m~/anaconda3/lib/python3.9/site-packages/pandas/io/parsers/readers.py\u001b[0m in \u001b[0;36mread_csv\u001b[0;34m(filepath_or_buffer, sep, delimiter, header, names, index_col, usecols, squeeze, prefix, mangle_dupe_cols, dtype, engine, converters, true_values, false_values, skipinitialspace, skiprows, skipfooter, nrows, na_values, keep_default_na, na_filter, verbose, skip_blank_lines, parse_dates, infer_datetime_format, keep_date_col, date_parser, dayfirst, cache_dates, iterator, chunksize, compression, thousands, decimal, lineterminator, quotechar, quoting, doublequote, escapechar, comment, encoding, encoding_errors, dialect, error_bad_lines, warn_bad_lines, on_bad_lines, delim_whitespace, low_memory, memory_map, float_precision, storage_options)\u001b[0m\n\u001b[1;32m    676\u001b[0m     \u001b[0mkwds\u001b[0m\u001b[0;34m.\u001b[0m\u001b[0mupdate\u001b[0m\u001b[0;34m(\u001b[0m\u001b[0mkwds_defaults\u001b[0m\u001b[0;34m)\u001b[0m\u001b[0;34m\u001b[0m\u001b[0;34m\u001b[0m\u001b[0m\n\u001b[1;32m    677\u001b[0m \u001b[0;34m\u001b[0m\u001b[0m\n\u001b[0;32m--> 678\u001b[0;31m     \u001b[0;32mreturn\u001b[0m \u001b[0m_read\u001b[0m\u001b[0;34m(\u001b[0m\u001b[0mfilepath_or_buffer\u001b[0m\u001b[0;34m,\u001b[0m \u001b[0mkwds\u001b[0m\u001b[0;34m)\u001b[0m\u001b[0;34m\u001b[0m\u001b[0;34m\u001b[0m\u001b[0m\n\u001b[0m\u001b[1;32m    679\u001b[0m \u001b[0;34m\u001b[0m\u001b[0m\n\u001b[1;32m    680\u001b[0m \u001b[0;34m\u001b[0m\u001b[0m\n",
      "\u001b[0;32m~/anaconda3/lib/python3.9/site-packages/pandas/io/parsers/readers.py\u001b[0m in \u001b[0;36m_read\u001b[0;34m(filepath_or_buffer, kwds)\u001b[0m\n\u001b[1;32m    573\u001b[0m \u001b[0;34m\u001b[0m\u001b[0m\n\u001b[1;32m    574\u001b[0m     \u001b[0;31m# Create the parser.\u001b[0m\u001b[0;34m\u001b[0m\u001b[0;34m\u001b[0m\u001b[0m\n\u001b[0;32m--> 575\u001b[0;31m     \u001b[0mparser\u001b[0m \u001b[0;34m=\u001b[0m \u001b[0mTextFileReader\u001b[0m\u001b[0;34m(\u001b[0m\u001b[0mfilepath_or_buffer\u001b[0m\u001b[0;34m,\u001b[0m \u001b[0;34m**\u001b[0m\u001b[0mkwds\u001b[0m\u001b[0;34m)\u001b[0m\u001b[0;34m\u001b[0m\u001b[0;34m\u001b[0m\u001b[0m\n\u001b[0m\u001b[1;32m    576\u001b[0m \u001b[0;34m\u001b[0m\u001b[0m\n\u001b[1;32m    577\u001b[0m     \u001b[0;32mif\u001b[0m \u001b[0mchunksize\u001b[0m \u001b[0;32mor\u001b[0m \u001b[0miterator\u001b[0m\u001b[0;34m:\u001b[0m\u001b[0;34m\u001b[0m\u001b[0;34m\u001b[0m\u001b[0m\n",
      "\u001b[0;32m~/anaconda3/lib/python3.9/site-packages/pandas/io/parsers/readers.py\u001b[0m in \u001b[0;36m__init__\u001b[0;34m(self, f, engine, **kwds)\u001b[0m\n\u001b[1;32m    930\u001b[0m \u001b[0;34m\u001b[0m\u001b[0m\n\u001b[1;32m    931\u001b[0m         \u001b[0mself\u001b[0m\u001b[0;34m.\u001b[0m\u001b[0mhandles\u001b[0m\u001b[0;34m:\u001b[0m \u001b[0mIOHandles\u001b[0m \u001b[0;34m|\u001b[0m \u001b[0;32mNone\u001b[0m \u001b[0;34m=\u001b[0m \u001b[0;32mNone\u001b[0m\u001b[0;34m\u001b[0m\u001b[0;34m\u001b[0m\u001b[0m\n\u001b[0;32m--> 932\u001b[0;31m         \u001b[0mself\u001b[0m\u001b[0;34m.\u001b[0m\u001b[0m_engine\u001b[0m \u001b[0;34m=\u001b[0m \u001b[0mself\u001b[0m\u001b[0;34m.\u001b[0m\u001b[0m_make_engine\u001b[0m\u001b[0;34m(\u001b[0m\u001b[0mf\u001b[0m\u001b[0;34m,\u001b[0m \u001b[0mself\u001b[0m\u001b[0;34m.\u001b[0m\u001b[0mengine\u001b[0m\u001b[0;34m)\u001b[0m\u001b[0;34m\u001b[0m\u001b[0;34m\u001b[0m\u001b[0m\n\u001b[0m\u001b[1;32m    933\u001b[0m \u001b[0;34m\u001b[0m\u001b[0m\n\u001b[1;32m    934\u001b[0m     \u001b[0;32mdef\u001b[0m \u001b[0mclose\u001b[0m\u001b[0;34m(\u001b[0m\u001b[0mself\u001b[0m\u001b[0;34m)\u001b[0m\u001b[0;34m:\u001b[0m\u001b[0;34m\u001b[0m\u001b[0;34m\u001b[0m\u001b[0m\n",
      "\u001b[0;32m~/anaconda3/lib/python3.9/site-packages/pandas/io/parsers/readers.py\u001b[0m in \u001b[0;36m_make_engine\u001b[0;34m(self, f, engine)\u001b[0m\n\u001b[1;32m   1214\u001b[0m             \u001b[0;31m# \"Union[str, PathLike[str], ReadCsvBuffer[bytes], ReadCsvBuffer[str]]\"\u001b[0m\u001b[0;34m\u001b[0m\u001b[0;34m\u001b[0m\u001b[0m\n\u001b[1;32m   1215\u001b[0m             \u001b[0;31m# , \"str\", \"bool\", \"Any\", \"Any\", \"Any\", \"Any\", \"Any\"\u001b[0m\u001b[0;34m\u001b[0m\u001b[0;34m\u001b[0m\u001b[0m\n\u001b[0;32m-> 1216\u001b[0;31m             self.handles = get_handle(  # type: ignore[call-overload]\n\u001b[0m\u001b[1;32m   1217\u001b[0m                 \u001b[0mf\u001b[0m\u001b[0;34m,\u001b[0m\u001b[0;34m\u001b[0m\u001b[0;34m\u001b[0m\u001b[0m\n\u001b[1;32m   1218\u001b[0m                 \u001b[0mmode\u001b[0m\u001b[0;34m,\u001b[0m\u001b[0;34m\u001b[0m\u001b[0;34m\u001b[0m\u001b[0m\n",
      "\u001b[0;32m~/anaconda3/lib/python3.9/site-packages/pandas/io/common.py\u001b[0m in \u001b[0;36mget_handle\u001b[0;34m(path_or_buf, mode, encoding, compression, memory_map, is_text, errors, storage_options)\u001b[0m\n\u001b[1;32m    784\u001b[0m         \u001b[0;32mif\u001b[0m \u001b[0mioargs\u001b[0m\u001b[0;34m.\u001b[0m\u001b[0mencoding\u001b[0m \u001b[0;32mand\u001b[0m \u001b[0;34m\"b\"\u001b[0m \u001b[0;32mnot\u001b[0m \u001b[0;32min\u001b[0m \u001b[0mioargs\u001b[0m\u001b[0;34m.\u001b[0m\u001b[0mmode\u001b[0m\u001b[0;34m:\u001b[0m\u001b[0;34m\u001b[0m\u001b[0;34m\u001b[0m\u001b[0m\n\u001b[1;32m    785\u001b[0m             \u001b[0;31m# Encoding\u001b[0m\u001b[0;34m\u001b[0m\u001b[0;34m\u001b[0m\u001b[0m\n\u001b[0;32m--> 786\u001b[0;31m             handle = open(\n\u001b[0m\u001b[1;32m    787\u001b[0m                 \u001b[0mhandle\u001b[0m\u001b[0;34m,\u001b[0m\u001b[0;34m\u001b[0m\u001b[0;34m\u001b[0m\u001b[0m\n\u001b[1;32m    788\u001b[0m                 \u001b[0mioargs\u001b[0m\u001b[0;34m.\u001b[0m\u001b[0mmode\u001b[0m\u001b[0;34m,\u001b[0m\u001b[0;34m\u001b[0m\u001b[0;34m\u001b[0m\u001b[0m\n",
      "\u001b[0;31mFileNotFoundError\u001b[0m: [Errno 2] No such file or directory: 'food.csv'"
     ]
    }
   ],
   "source": [
    "data=pd.read_csv('food.csv')\n",
    "Food_itemsdata=data['Food_items']\n"
   ]
  },
  {
   "cell_type": "code",
   "execution_count": 73,
   "metadata": {},
   "outputs": [],
   "source": [
    "def calBmi(weight, height):\n",
    "    bmi = weight/((height/100)**2) \n",
    "    print(\"Your body mass index is: \", round(bmi,2))\n",
    "    if ( bmi < 16):\n",
    "        print(\"Acoording to your BMI, you are Severely Underweight\")\n",
    "        bfbmi=2\n",
    "        lbmi=2\n",
    "        dbmi=3\n",
    "    elif ( bmi >= 16 and bmi < 18.5):\n",
    "        print(\"Acoording to your BMI, you are Underweight\")\n",
    "        bfbmi=4\n",
    "        lbmi=0\n",
    "        dbmi=2\n",
    "    elif ( bmi >= 18.5 and bmi < 25):\n",
    "        print(\"Acoording to your BMI, you are Healthy\")\n",
    "        bfbmi=3\n",
    "        lbmi=3\n",
    "        dbmi=0\n",
    "    elif ( bmi >= 25 and bmi < 30):\n",
    "        print(\"Acoording to your BMI, you are Overweight\")\n",
    "        bfbmi=1\n",
    "        lbmi=4\n",
    "        dbmi=4\n",
    "    elif ( bmi >=30):\n",
    "        print(\"Acoording to your BMI, you are Severely Overweight\")\n",
    "        bfbmi=0\n",
    "        lbmi=1\n",
    "        dbmi=1\n",
    "    return bfbmi, lbmi, dbmi"
   ]
  },
  {
   "cell_type": "code",
   "execution_count": 6,
   "metadata": {},
   "outputs": [],
   "source": [
    "def clusterKmeans(catdata):\n",
    "    ## K-Means\n",
    "    X = np.array(catdata[:,1:len(catdata)])\n",
    "    kmeans = KMeans(n_clusters=5, init='k-means++', \n",
    "                    max_iter=300, tol=0.0001, algorithm='elkan', \n",
    "                    random_state=0).fit(X)\n",
    "    lbl=kmeans.labels_\n",
    "    return lbl"
   ]
  },
  {
   "cell_type": "code",
   "execution_count": 53,
   "metadata": {},
   "outputs": [],
   "source": [
    "def breakFast():\n",
    "    Breakfastdata=data['Breakfast']\n",
    "    BreakfastdataNumpy=Breakfastdata.to_numpy()\n",
    "    breakfastfoodseparated=[] #name of breakfast foods\n",
    "    breakfastfoodseparatedID=[] #id of breakfast foods\n",
    "    for i in range(len(Breakfastdata)):\n",
    "        if BreakfastdataNumpy[i]==1:\n",
    "            breakfastfoodseparated.append( Food_itemsdata[i] )\n",
    "            breakfastfoodseparatedID.append(i)\n",
    "   \n",
    "    # retrieving Breafast data rows by loc method \n",
    "    breakfastfoodseparatedIDdata = data.iloc[breakfastfoodseparatedID]\n",
    "    breakfastfoodseparatedIDdata=breakfastfoodseparatedIDdata.T\n",
    "    val=list(np.arange(5,16))\n",
    "    Valapnd=[0]+val\n",
    "    breakfastfoodseparatedIDdata=breakfastfoodseparatedIDdata.iloc[Valapnd]\n",
    "    breakfastfoodseparatedIDdata=breakfastfoodseparatedIDdata.T\n",
    "    # cluster\n",
    "    brklbl = clusterKmeans(breakfastfoodseparatedIDdata.to_numpy())\n",
    "    bf_df = breakfastfoodseparatedIDdata\n",
    "    bf_df['label']  = brklbl\n",
    "    # saving the dataframe\n",
    "    bf_df.to_csv('breakfast.csv')\n",
    "    \n",
    "\n",
    "      "
   ]
  },
  {
   "cell_type": "code",
   "execution_count": 49,
   "metadata": {},
   "outputs": [],
   "source": [
    "def lunch():\n",
    "    Lunchdata=data['Lunch']\n",
    "    LunchdataNumpy=Lunchdata.to_numpy()\n",
    "    lunchfoodseparated=[] #name of breakfast foods\n",
    "    lunchfoodseparatedID=[] #id of breakfast foods\n",
    "    for i in range(len(Lunchdata)):\n",
    "        if LunchdataNumpy[i]==1:\n",
    "            lunchfoodseparated.append( Food_itemsdata[i] )\n",
    "            lunchfoodseparatedID.append(i)\n",
    "\n",
    "    # retrieving Breafast data rows by loc method \n",
    "    lunchfoodseparatedIDdata = data.iloc[lunchfoodseparatedID]\n",
    "    lunchfoodseparatedIDdata=lunchfoodseparatedIDdata.T\n",
    "    val=list(np.arange(5,16))\n",
    "    Valapnd=[0]+val\n",
    "    lunchfoodseparatedIDdata=lunchfoodseparatedIDdata.iloc[Valapnd]\n",
    "    lunchfoodseparatedIDdata=lunchfoodseparatedIDdata.T\n",
    "\n",
    "    # cluster\n",
    "    lunchlbl = clusterKmeans(lunchfoodseparatedIDdata.to_numpy())\n",
    "    l_df = lunchfoodseparatedIDdata\n",
    "    l_df['label']  = lunchlbl\n",
    "    # saving the dataframe\n",
    "    l_df.to_csv('lunch.csv')\n"
   ]
  },
  {
   "cell_type": "code",
   "execution_count": 48,
   "metadata": {},
   "outputs": [],
   "source": [
    "def dinner():\n",
    "    Dinnerdata=data['Dinner']\n",
    "    DinnerdataNumpy=Dinnerdata.to_numpy()\n",
    "    dinnerfoodseparated=[] #name of breakfast foods\n",
    "    dinnerfoodseparatedID=[] #id of breakfast foods\n",
    "    for i in range(len(Dinnerdata)):\n",
    "        if DinnerdataNumpy[i]==1:\n",
    "            dinnerfoodseparated.append( Food_itemsdata[i] )\n",
    "            dinnerfoodseparatedID.append(i)\n",
    "\n",
    "    # retrieving Breafast data rows by loc method \n",
    "    dinnerfoodseparatedIDdata = data.iloc[dinnerfoodseparatedID]\n",
    "    dinnerfoodseparatedIDdata=dinnerfoodseparatedIDdata.T\n",
    "    val=list(np.arange(5,16))\n",
    "    Valapnd=[0]+val\n",
    "    dinnerfoodseparatedIDdata=dinnerfoodseparatedIDdata.iloc[Valapnd]\n",
    "    dinnerfoodseparatedIDdata=dinnerfoodseparatedIDdata.T\n",
    "\n",
    "    # cluster\n",
    "    dinnerlbl = clusterKmeans(dinnerfoodseparatedIDdata.to_numpy())\n",
    "    d_df = dinnerfoodseparatedIDdata\n",
    "    d_df['label']  = dinnerlbl\n",
    "    # saving the dataframe\n",
    "    d_df.to_csv('dinner.csv')\n",
    "    \n"
   ]
  },
  {
   "cell_type": "code",
   "execution_count": 10,
   "metadata": {},
   "outputs": [],
   "source": [
    "# ----------------------  xxxxx\n",
    "def makeTrainingset(cat, lbl, bmicls, agecls):\n",
    "    ## train set\n",
    "    catfin=np.zeros((len(cat)*5,6),dtype=np.float32)\n",
    "    t = 0\n",
    "    yt = []\n",
    "    for zz in range(5):\n",
    "        for jj in range(len(cat)):\n",
    "            valloc=list(cat[jj]) #weightloss major columns -4\n",
    "            valloc.append(bmicls[zz]) #add bmi value randomly\n",
    "            valloc.append(agecls[zz]) #add age value  randomly\n",
    "            catfin[t]=np.array(valloc)\n",
    "            yt.append(lbl[jj]) #randomly assigned the label for breakfast clusters\n",
    "            t+=1\n",
    "    return catfin, yt"
   ]
  },
  {
   "cell_type": "code",
   "execution_count": 11,
   "metadata": {},
   "outputs": [],
   "source": [
    "# ----------------------  xxxxx\n",
    "def testDataGeneration(cat):\n",
    "    #test data generation \n",
    "    X_test=np.zeros((len(cat),6),dtype=np.float32)\n",
    "    # age weight height veg\n",
    "    agecl, clbmi = calBmi(45.0,70.0,169.0)\n",
    "    ti=(clbmi+agecl)/2\n",
    "    for jj in range(len(cat)):\n",
    "        valloc=list(cat[jj])\n",
    "        valloc.append(agecl)\n",
    "        valloc.append(clbmi)\n",
    "        X_test[jj]=np.array(valloc)*ti\n",
    "    return X_test"
   ]
  },
  {
   "cell_type": "code",
   "execution_count": 17,
   "metadata": {},
   "outputs": [],
   "source": [
    "# ----------------------  xxxxx\n",
    "def forestClassifier(X_train, y_train):\n",
    "    clf=RandomForestClassifier(n_estimators=100).fit(X_train,y_train)\n",
    "    return clf"
   ]
  },
  {
   "cell_type": "code",
   "execution_count": 52,
   "metadata": {},
   "outputs": [],
   "source": [
    "def train_model():\n",
    "    breakFast()\n",
    "    lunch()\n",
    "    dinner()\n",
    "train_model()"
   ]
  },
  {
   "cell_type": "code",
   "execution_count": 69,
   "metadata": {},
   "outputs": [],
   "source": [
    "def recommend(w, h):\n",
    "# --------------\n",
    "    print(\" \\n Weight : %s \\n Height : %s\" % (w, h))\n",
    "    bf_df = pd.read_csv('breakfast.csv')\n",
    "    l_df = pd.read_csv('lunch.csv')\n",
    "    d_df = pd.read_csv('dinner.csv')\n",
    "    bfbmi, lbmi, dbmi = calBmi(int(w), int(h))\n",
    "    \n",
    "    print ('\\n SUGGESTED BREAKFAST ITEMS :: \\n')\n",
    "    print((bf_df.loc[bf_df['label']==bfbmi]['Food_items']).to_string(index= False))\n",
    "    print ('\\n SUGGESTED LUNCH ITEMS :: \\n')\n",
    "    print((l_df.loc[l_df['label']==lbmi]['Food_items']).to_string(index= False))\n",
    "    print ('\\n SUGGESTED DINNER ITEMS :: \\n')\n",
    "    print((d_df.loc[d_df['label']==dbmi]['Food_items']).to_string(index= False))\n",
    "    "
   ]
  },
  {
   "cell_type": "code",
   "execution_count": 72,
   "metadata": {},
   "outputs": [
    {
     "name": "stdout",
     "output_type": "stream",
     "text": [
      " \n",
      " Weight : 80 \n",
      " Height : 169\n",
      "Your body mass index is:  28.01\n",
      "Acoording to your BMI, you are Overweight\n",
      "\n",
      " SUGGESTED BREAKFAST ITEMS :: \n",
      "\n",
      "             Avocados\n",
      "              Bananas\n",
      "               Coffee\n",
      "                 Corn\n",
      "               Grapes\n",
      "                 Milk\n",
      "               Orange\n",
      "                Pears\n",
      "                 Dosa\n",
      "                 Idli\n",
      "                 Poha\n",
      "               Tomato\n",
      "               Yogurt\n",
      "            Mushrooms\n",
      "      Egg Yolk cooked\n",
      "Sweet Potatoes cooked\n",
      "      Boiled Potatoes\n",
      "         Orange juice\n",
      "   Greek yogurt plain\n",
      "      Oat Bran Cooked\n",
      "            Green Tea\n",
      "                  Tea\n",
      "               Apples\n",
      "         Strawberries\n",
      "              Quninoa\n",
      "                Honey\n",
      "\n",
      " SUGGESTED LUNCH ITEMS :: \n",
      "\n",
      "              Brown Rice\n",
      "                    Corn\n",
      "                    Dosa\n",
      "                    Idli\n",
      "                 Noodles\n",
      "              White Rice\n",
      "Pasta with corn homemade\n",
      "\n",
      " SUGGESTED DINNER ITEMS :: \n",
      "\n",
      "       Brocolli\n",
      "    Cauliflower\n",
      "Dark chocolates\n",
      "        Pumpkin\n",
      "      Tuna Fish\n",
      "   French Fries\n",
      "    Dal Makhani\n",
      "      Mushrooms\n",
      "Boiled Potatoes\n",
      "         Salmon\n",
      "        Lentils\n",
      "      Goat meat\n",
      "    Rabbit meat\n",
      "    Steak Fries\n",
      "    Pork cooked\n",
      "  Turkey cooked\n",
      "  Oyster cooked\n"
     ]
    }
   ],
   "source": [
    "weight = 80\n",
    "height = 169\n",
    "recommend(weight, height)"
   ]
  },
  {
   "cell_type": "code",
   "execution_count": null,
   "metadata": {},
   "outputs": [],
   "source": []
  },
  {
   "cell_type": "code",
   "execution_count": null,
   "metadata": {},
   "outputs": [],
   "source": []
  }
 ],
 "metadata": {
  "kernelspec": {
   "display_name": "Python 3 (ipykernel)",
   "language": "python",
   "name": "python3"
  },
  "language_info": {
   "codemirror_mode": {
    "name": "ipython",
    "version": 3
   },
   "file_extension": ".py",
   "mimetype": "text/x-python",
   "name": "python",
   "nbconvert_exporter": "python",
   "pygments_lexer": "ipython3",
   "version": "3.9.13"
  }
 },
 "nbformat": 4,
 "nbformat_minor": 2
}
