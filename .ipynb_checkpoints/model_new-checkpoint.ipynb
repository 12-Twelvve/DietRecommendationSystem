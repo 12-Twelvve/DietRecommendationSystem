{
 "cells": [
  {
   "cell_type": "code",
   "execution_count": 1,
   "id": "636d0919",
   "metadata": {},
   "outputs": [],
   "source": [
    "import numpy as np\n",
    "import pandas as pd\n",
    "import matplotlib.pyplot as plt\n",
    "from sklearn.ensemble import RandomForestClassifier\n",
    "from sklearn.datasets import make_classification\n",
    "from sklearn.model_selection import train_test_split\n",
    "from sklearn.metrics import accuracy_score, f1_score\n",
    "from sklearn.metrics.pairwise import cosine_similarity\n",
    "\n",
    "import warnings\n",
    "warnings.filterwarnings('ignore')"
   ]
  },
  {
   "cell_type": "code",
   "execution_count": 2,
   "id": "efdeab02",
   "metadata": {},
   "outputs": [],
   "source": [
    "def calculate_bmi(height, weight):\n",
    "    height /= 100\n",
    "    bmi = weight/np.square(height)\n",
    "    return round(bmi,2)"
   ]
  },
  {
   "cell_type": "code",
   "execution_count": 3,
   "id": "a32919c8",
   "metadata": {},
   "outputs": [],
   "source": [
    "def get_min_max(col_name, df):\n",
    "    q1 = df[col_name].quantile(0.25)\n",
    "    q3 = df[col_name].quantile(0.75)\n",
    "    iqr = q3-q1\n",
    "    q_min = q1-(1.5*iqr)\n",
    "    q_max = q3+(1.5*iqr)\n",
    "\n",
    "    return q_min,q1,q3,q_max    \n"
   ]
  },
  {
   "cell_type": "code",
   "execution_count": 4,
   "id": "028268f1",
   "metadata": {},
   "outputs": [
    {
     "name": "stdout",
     "output_type": "stream",
     "text": [
      "<class 'pandas.core.frame.DataFrame'>\n",
      "RangeIndex: 42 entries, 0 to 41\n",
      "Data columns (total 14 columns):\n",
      " #   Column         Non-Null Count  Dtype  \n",
      "---  ------         --------------  -----  \n",
      " 0   Unnamed: 0     42 non-null     int64  \n",
      " 1   Food_items     42 non-null     object \n",
      " 2   Calories       42 non-null     int64  \n",
      " 3   Fats           42 non-null     float64\n",
      " 4   Proteins       42 non-null     float64\n",
      " 5   Iron           42 non-null     float64\n",
      " 6   Calcium        42 non-null     float64\n",
      " 7   Sodium         42 non-null     int64  \n",
      " 8   Potassium      42 non-null     float64\n",
      " 9   Carbohydrates  42 non-null     float64\n",
      " 10  Fibre          42 non-null     float64\n",
      " 11  VitaminD       42 non-null     int64  \n",
      " 12  Sugars         42 non-null     float64\n",
      " 13  label          42 non-null     int64  \n",
      "dtypes: float64(8), int64(5), object(1)\n",
      "memory usage: 4.7+ KB\n"
     ]
    }
   ],
   "source": [
    "food_df = pd.read_csv('breakfast.csv')\n",
    "food_df.info()\n"
   ]
  },
  {
   "cell_type": "code",
   "execution_count": 5,
   "id": "e0faed5d",
   "metadata": {},
   "outputs": [],
   "source": [
    "# Load the food dataset\n",
    "# food_data = pd.read_csv('breakfast.csv')\n",
    "bf_data = pd.read_csv('breakfast.csv')\n",
    "l_data = pd.read_csv('lunch.csv')\n",
    "d_data = pd.read_csv('dinner.csv')\n",
    "\n",
    "# concatinate\n",
    "# df = pd.concat([bf_data, l_data, d_data])\n"
   ]
  },
  {
   "cell_type": "code",
   "execution_count": 6,
   "id": "12bf77ff",
   "metadata": {},
   "outputs": [],
   "source": [
    "# for bf\n",
    "bf_data.loc[bf_data['label'] ==0,'label'] = 's_overweight'\n",
    "bf_data.loc[bf_data['label'] ==1,'label'] = 'overweight'\n",
    "bf_data.loc[bf_data['label'] ==3, 'label'] = 'healthy'\n",
    "bf_data.loc[bf_data['label'] ==4, 'label'] = 'underweight'\n",
    "bf_data.loc[bf_data['label'] ==2, 'label'] = 's_underweight'\n"
   ]
  },
  {
   "cell_type": "code",
   "execution_count": 7,
   "id": "bb52d5e0",
   "metadata": {},
   "outputs": [],
   "source": [
    "#lunch\n",
    "l_data.loc[l_data['label'] ==1,'label'] = 's_overweight'\n",
    "l_data.loc[l_data['label'] ==4,'label'] = 'overweight'\n",
    "l_data.loc[l_data['label'] ==3, 'label'] = 'healthy'\n",
    "l_data.loc[l_data['label'] ==0, 'label'] = 'underweight'\n",
    "l_data.loc[l_data['label'] ==2, 'label'] = 's_underweight'\n"
   ]
  },
  {
   "cell_type": "code",
   "execution_count": 8,
   "id": "578f23b5",
   "metadata": {},
   "outputs": [],
   "source": [
    "#dinner\n",
    "d_data.loc[d_data['label'] ==1,'label'] = 's_overweight'\n",
    "d_data.loc[d_data['label'] ==4,'label'] = 'overweight'\n",
    "d_data.loc[d_data['label'] ==0, 'label'] = 'healthy'\n",
    "d_data.loc[d_data['label'] ==2, 'label'] = 'underweight'\n",
    "d_data.loc[d_data['label'] ==3, 'label'] = 's_underweight'\n"
   ]
  },
  {
   "cell_type": "code",
   "execution_count": 9,
   "id": "d9acaf89",
   "metadata": {},
   "outputs": [],
   "source": [
    "#concatinate\n",
    "df = pd.concat([bf_data, l_data, d_data])\n"
   ]
  },
  {
   "cell_type": "code",
   "execution_count": 10,
   "id": "a27af916",
   "metadata": {},
   "outputs": [
    {
     "data": {
      "text/html": [
       "<div>\n",
       "<style scoped>\n",
       "    .dataframe tbody tr th:only-of-type {\n",
       "        vertical-align: middle;\n",
       "    }\n",
       "\n",
       "    .dataframe tbody tr th {\n",
       "        vertical-align: top;\n",
       "    }\n",
       "\n",
       "    .dataframe thead th {\n",
       "        text-align: right;\n",
       "    }\n",
       "</style>\n",
       "<table border=\"1\" class=\"dataframe\">\n",
       "  <thead>\n",
       "    <tr style=\"text-align: right;\">\n",
       "      <th></th>\n",
       "      <th>Unnamed: 0</th>\n",
       "      <th>Food_items</th>\n",
       "      <th>Calories</th>\n",
       "      <th>Fats</th>\n",
       "      <th>Proteins</th>\n",
       "      <th>Iron</th>\n",
       "      <th>Calcium</th>\n",
       "      <th>Sodium</th>\n",
       "      <th>Potassium</th>\n",
       "      <th>Carbohydrates</th>\n",
       "      <th>Fibre</th>\n",
       "      <th>VitaminD</th>\n",
       "      <th>Sugars</th>\n",
       "      <th>label</th>\n",
       "    </tr>\n",
       "  </thead>\n",
       "  <tbody>\n",
       "    <tr>\n",
       "      <th>0</th>\n",
       "      <td>1</td>\n",
       "      <td>Avocados</td>\n",
       "      <td>160</td>\n",
       "      <td>15.0</td>\n",
       "      <td>2.0</td>\n",
       "      <td>0.55</td>\n",
       "      <td>12.0</td>\n",
       "      <td>7</td>\n",
       "      <td>485.0</td>\n",
       "      <td>8.5</td>\n",
       "      <td>6.7</td>\n",
       "      <td>0</td>\n",
       "      <td>0.7</td>\n",
       "      <td>overweight</td>\n",
       "    </tr>\n",
       "    <tr>\n",
       "      <th>1</th>\n",
       "      <td>2</td>\n",
       "      <td>Bananas</td>\n",
       "      <td>89</td>\n",
       "      <td>0.3</td>\n",
       "      <td>1.1</td>\n",
       "      <td>0.26</td>\n",
       "      <td>5.0</td>\n",
       "      <td>1</td>\n",
       "      <td>358.0</td>\n",
       "      <td>23.0</td>\n",
       "      <td>2.6</td>\n",
       "      <td>0</td>\n",
       "      <td>12.0</td>\n",
       "      <td>overweight</td>\n",
       "    </tr>\n",
       "    <tr>\n",
       "      <th>2</th>\n",
       "      <td>4</td>\n",
       "      <td>Berries</td>\n",
       "      <td>349</td>\n",
       "      <td>0.4</td>\n",
       "      <td>14.0</td>\n",
       "      <td>6.80</td>\n",
       "      <td>190.0</td>\n",
       "      <td>298</td>\n",
       "      <td>77.0</td>\n",
       "      <td>77.0</td>\n",
       "      <td>13.0</td>\n",
       "      <td>0</td>\n",
       "      <td>46.0</td>\n",
       "      <td>underweight</td>\n",
       "    </tr>\n",
       "    <tr>\n",
       "      <th>3</th>\n",
       "      <td>8</td>\n",
       "      <td>American cheese</td>\n",
       "      <td>331</td>\n",
       "      <td>24.0</td>\n",
       "      <td>20.0</td>\n",
       "      <td>0.84</td>\n",
       "      <td>497.0</td>\n",
       "      <td>966</td>\n",
       "      <td>363.0</td>\n",
       "      <td>8.3</td>\n",
       "      <td>0.0</td>\n",
       "      <td>0</td>\n",
       "      <td>0.0</td>\n",
       "      <td>s_underweight</td>\n",
       "    </tr>\n",
       "    <tr>\n",
       "      <th>4</th>\n",
       "      <td>9</td>\n",
       "      <td>Coffee</td>\n",
       "      <td>2</td>\n",
       "      <td>0.0</td>\n",
       "      <td>0.3</td>\n",
       "      <td>0.02</td>\n",
       "      <td>2.0</td>\n",
       "      <td>1</td>\n",
       "      <td>50.0</td>\n",
       "      <td>0.2</td>\n",
       "      <td>0.0</td>\n",
       "      <td>0</td>\n",
       "      <td>0.0</td>\n",
       "      <td>overweight</td>\n",
       "    </tr>\n",
       "  </tbody>\n",
       "</table>\n",
       "</div>"
      ],
      "text/plain": [
       "   Unnamed: 0       Food_items  Calories  Fats  Proteins  Iron  Calcium  \\\n",
       "0           1         Avocados       160  15.0       2.0  0.55     12.0   \n",
       "1           2          Bananas        89   0.3       1.1  0.26      5.0   \n",
       "2           4          Berries       349   0.4      14.0  6.80    190.0   \n",
       "3           8  American cheese       331  24.0      20.0  0.84    497.0   \n",
       "4           9           Coffee         2   0.0       0.3  0.02      2.0   \n",
       "\n",
       "   Sodium  Potassium  Carbohydrates  Fibre  VitaminD  Sugars          label  \n",
       "0       7      485.0            8.5    6.7         0     0.7     overweight  \n",
       "1       1      358.0           23.0    2.6         0    12.0     overweight  \n",
       "2     298       77.0           77.0   13.0         0    46.0    underweight  \n",
       "3     966      363.0            8.3    0.0         0     0.0  s_underweight  \n",
       "4       1       50.0            0.2    0.0         0     0.0     overweight  "
      ]
     },
     "execution_count": 10,
     "metadata": {},
     "output_type": "execute_result"
    }
   ],
   "source": [
    "df.head()"
   ]
  },
  {
   "cell_type": "code",
   "execution_count": 11,
   "id": "4f155ce1",
   "metadata": {},
   "outputs": [],
   "source": [
    "# Split the data into features (nutritional values) and target variable (food category)\n",
    "# X = food_data.drop('Food_items', axis=1)\n",
    "X = df.iloc[:, 2:13]\n",
    "y = df['label']\n",
    "# foo = food_data.copy()"
   ]
  },
  {
   "cell_type": "code",
   "execution_count": 12,
   "id": "e9d0e553",
   "metadata": {},
   "outputs": [],
   "source": [
    "X_train, X_test, y_train, y_test = train_test_split(X, y, random_state=1, test_size=0.3)"
   ]
  },
  {
   "cell_type": "code",
   "execution_count": 13,
   "id": "e83893d5",
   "metadata": {},
   "outputs": [
    {
     "data": {
      "text/plain": [
       "RandomForestClassifier(random_state=42)"
      ]
     },
     "execution_count": 13,
     "metadata": {},
     "output_type": "execute_result"
    }
   ],
   "source": [
    "# Create a random forest classifier with 100 trees and train it on the entire dataset\n",
    "tree_classifier = RandomForestClassifier(n_estimators=100, random_state=42)\n",
    "tree_classifier.fit(X_train, y_train)"
   ]
  },
  {
   "cell_type": "code",
   "execution_count": 14,
   "id": "5a870304",
   "metadata": {},
   "outputs": [],
   "source": [
    "# Make predictions for the test set\n",
    "y_pred_test = tree_classifier.predict(X_test)"
   ]
  },
  {
   "cell_type": "code",
   "execution_count": 15,
   "id": "501d9a78",
   "metadata": {},
   "outputs": [
    {
     "data": {
      "text/plain": [
       "array([[ 2,  8,  0,  0,  0],\n",
       "       [ 1, 10,  6,  0,  0],\n",
       "       [ 0,  6,  5,  0,  0],\n",
       "       [ 1,  0,  0,  0,  0],\n",
       "       [ 0,  0,  0,  0,  6]])"
      ]
     },
     "execution_count": 15,
     "metadata": {},
     "output_type": "execute_result"
    }
   ],
   "source": [
    "from sklearn.metrics import confusion_matrix\n",
    "# View confusion matrix for test data and predictions\n",
    "confusion_matrix(y_test, y_pred_test)"
   ]
  },
  {
   "cell_type": "code",
   "execution_count": 17,
   "id": "100c2af4",
   "metadata": {},
   "outputs": [
    {
     "data": {
      "text/plain": [
       "overweight      24\n",
       "s_overweight    11\n",
       "underweight      6\n",
       "healthy          4\n",
       "dtype: int64"
      ]
     },
     "execution_count": 17,
     "metadata": {},
     "output_type": "execute_result"
    }
   ],
   "source": [
    "pd.Series(y_pred_test).value_counts()"
   ]
  },
  {
   "cell_type": "code",
   "execution_count": 39,
   "id": "9c8e0673",
   "metadata": {},
   "outputs": [
    {
     "data": {
      "text/plain": [
       "array([[11, 10,  0,  0,  0],\n",
       "       [ 2, 41,  7,  0,  0],\n",
       "       [ 0, 10, 22,  0,  0],\n",
       "       [ 2,  0,  0,  3,  0],\n",
       "       [ 0,  0,  0,  0, 40]])"
      ]
     },
     "execution_count": 39,
     "metadata": {},
     "output_type": "execute_result"
    }
   ],
   "source": [
    "y_pred = tree_classifier.predict(X)\n",
    "confusion_matrix(y, y_pred)"
   ]
  },
  {
   "cell_type": "code",
   "execution_count": 40,
   "id": "ec2d4c6d",
   "metadata": {},
   "outputs": [
    {
     "data": {
      "image/png": "[encoded data removed]",
      "text/plain": [
       "<Figure size 1600x700 with 2 Axes>"
      ]
     },
     "metadata": {},
     "output_type": "display_data"
    }
   ],
   "source": [
    "import seaborn as sns\n",
    "# Get and reshape confusion matrix data\n",
    "matrix = confusion_matrix(y, y_pred)\n",
    "\n",
    "# Build the plot\n",
    "plt.figure(figsize=(16,7))\n",
    "sns.set(font_scale=1.4)\n",
    "sns.heatmap(matrix, annot=True, annot_kws={'size':10},\n",
    "            cmap=plt.cm.Greens, linewidths=0.2)\n",
    "\n",
    "# Add labels to the plot\n",
    "class_names = ['healthy', 'overweight', 's_overweight', 's_underweight', 'underweight']\n",
    "tick_marks = np.arange(len(class_names))\n",
    "tick_marks2 = tick_marks + 0.5\n",
    "plt.xticks(tick_marks, class_names, rotation=25)\n",
    "plt.yticks(tick_marks2, class_names, rotation=0)\n",
    "plt.xlabel('Predicted label')\n",
    "plt.ylabel('True label')\n",
    "plt.title('Confusion Matrix for Random Forest Model')\n",
    "plt.show()"
   ]
  },
  {
   "cell_type": "code",
   "execution_count": 32,
   "id": "64818983",
   "metadata": {},
   "outputs": [],
   "source": [
    "#bmi < 18.5 underweight -> 0\n",
    "#bmi between 18.5 and 24.9 normal weight ->1\n",
    "#bmi > 25 overweight / obese ->2\n",
    "\n",
    "#Underweight high proteins,carbohydrates, calories\n",
    "#overweight low calories,fats high proteins,fibre\n",
    "#normal balanced amount of nutrients\n"
   ]
  },
  {
   "cell_type": "code",
   "execution_count": 42,
   "id": "66c982cc",
   "metadata": {},
   "outputs": [
    {
     "name": "stdout",
     "output_type": "stream",
     "text": [
      "               precision    recall  f1-score   support\n",
      "\n",
      "      healthy       0.73      0.52      0.61        21\n",
      "   overweight       0.67      0.82      0.74        50\n",
      " s_overweight       0.76      0.69      0.72        32\n",
      "s_underweight       1.00      0.60      0.75         5\n",
      "  underweight       1.00      1.00      1.00        40\n",
      "\n",
      "     accuracy                           0.79       148\n",
      "    macro avg       0.83      0.73      0.76       148\n",
      " weighted avg       0.80      0.79      0.79       148\n",
      "\n"
     ]
    }
   ],
   "source": [
    " from sklearn.metrics import classification_report\n",
    "print(classification_report(y, y_pred))"
   ]
  },
  {
   "cell_type": "code",
   "execution_count": null,
   "id": "dafac2f3",
   "metadata": {},
   "outputs": [],
   "source": []
  },
  {
   "cell_type": "code",
   "execution_count": 7,
   "id": "0f189b85",
   "metadata": {},
   "outputs": [
    {
     "name": "stdout",
     "output_type": "stream",
     "text": [
      "         nutrient  min_value  max_value\n",
      "0        Calories      61.00      61.00\n",
      "1        Proteins       0.14       0.14\n",
      "2   Carbohydrates      14.08      14.08\n",
      "3          Sugars       4.04       4.04\n",
      "4           Fibre       2.00       2.00\n",
      "5            Fats       1.28       1.28\n",
      "6        VitaminD       0.00       0.00\n",
      "7         Calcium      13.00      13.00\n",
      "8            Iron       0.28       0.28\n",
      "9          Sodium       0.00       0.00\n",
      "10      Potassium     104.00     104.00\n"
     ]
    }
   ],
   "source": [
    "user_input = pd.DataFrame({\n",
    "    'nutrient': ['Calories','Proteins', 'Carbohydrates', 'Sugars', 'Fibre', 'Fats','VitaminD', 'Calcium', 'Iron', 'Sodium', 'Potassium'],\n",
    "    'min_value': [61, 0.14, 14.08, 4.04, 2.0 ,1.28, 0, 13, 0.28, 0, 104],\n",
    "    'max_value': [61, 0.14, 14.08, 4.04, 2.0 ,1.28, 0, 13, 0.28, 0, 104]\n",
    "})\n",
    "\n",
    "print(user_input)"
   ]
  },
  {
   "cell_type": "code",
   "execution_count": 8,
   "id": "159db546",
   "metadata": {},
   "outputs": [],
   "source": [
    "bmi = calculate_bmi(172,49)\n",
    "weight = 0\n",
    "if(bmi<18.5):\n",
    "    weight = 0\n",
    "elif(bmi>=18.5 and bmi<=24.9):\n",
    "    weight = 1\n",
    "else:\n",
    "    weight = 2\n",
    "    \n",
    "available_cols = ['Calories', 'Proteins', 'Carbohydrates', 'Fibre']  #0 1 2 4\n",
    "if(weight == 0):\n",
    "    for i, col in enumerate(available_cols):\n",
    "        q_min,q1,q3,q_max = get_min_max(col, food_data)\n",
    "        if(i == 3):\n",
    "            user_input['min_value'][i+1] = q3\n",
    "            user_input['max_value'][i+1] = q_max\n",
    "        else:\n",
    "            user_input['min_value'][i] = q3\n",
    "            user_input['max_value'][i] = q_max\n",
    "elif(weight == 1):\n",
    "    for i, col in enumerate(available_cols):\n",
    "        q_min,q1,q3,q_max = get_min_max(col, food_data)\n",
    "        if(i == 3):\n",
    "            user_input['min_value'][i+1] = q1\n",
    "            user_input['max_value'][i+1] = q3\n",
    "        else:\n",
    "            user_input['min_value'][i] = q1\n",
    "            user_input['max_value'][i] = q3\n",
    "else:\n",
    "    for i, col in enumerate(available_cols):\n",
    "        q_min,q1,q3,q_max = get_min_max(col, food_data)\n",
    "        if(i == 3):\n",
    "            user_input['min_value'][i+1] = q_min\n",
    "            user_input['max_value'][i+1] = q1\n",
    "        else:\n",
    "            user_input['min_value'][i] = q_min\n",
    "            user_input['max_value'][i] = q1\n",
    "\n",
    "    "
   ]
  },
  {
   "cell_type": "code",
   "execution_count": 9,
   "id": "588b0d97",
   "metadata": {},
   "outputs": [
    {
     "data": {
      "text/html": [
       "<div>\n",
       "<style scoped>\n",
       "    .dataframe tbody tr th:only-of-type {\n",
       "        vertical-align: middle;\n",
       "    }\n",
       "\n",
       "    .dataframe tbody tr th {\n",
       "        vertical-align: top;\n",
       "    }\n",
       "\n",
       "    .dataframe thead th {\n",
       "        text-align: right;\n",
       "    }\n",
       "</style>\n",
       "<table border=\"1\" class=\"dataframe\">\n",
       "  <thead>\n",
       "    <tr style=\"text-align: right;\">\n",
       "      <th></th>\n",
       "      <th>nutrient</th>\n",
       "      <th>min_value</th>\n",
       "      <th>max_value</th>\n",
       "    </tr>\n",
       "  </thead>\n",
       "  <tbody>\n",
       "    <tr>\n",
       "      <th>0</th>\n",
       "      <td>Calories</td>\n",
       "      <td>279.00</td>\n",
       "      <td>609.000</td>\n",
       "    </tr>\n",
       "    <tr>\n",
       "      <th>1</th>\n",
       "      <td>Proteins</td>\n",
       "      <td>10.56</td>\n",
       "      <td>24.900</td>\n",
       "    </tr>\n",
       "    <tr>\n",
       "      <th>2</th>\n",
       "      <td>Carbohydrates</td>\n",
       "      <td>25.40</td>\n",
       "      <td>56.255</td>\n",
       "    </tr>\n",
       "    <tr>\n",
       "      <th>3</th>\n",
       "      <td>Sugars</td>\n",
       "      <td>4.04</td>\n",
       "      <td>4.040</td>\n",
       "    </tr>\n",
       "    <tr>\n",
       "      <th>4</th>\n",
       "      <td>Fibre</td>\n",
       "      <td>1.90</td>\n",
       "      <td>4.750</td>\n",
       "    </tr>\n",
       "    <tr>\n",
       "      <th>5</th>\n",
       "      <td>Fats</td>\n",
       "      <td>1.28</td>\n",
       "      <td>1.280</td>\n",
       "    </tr>\n",
       "    <tr>\n",
       "      <th>6</th>\n",
       "      <td>VitaminD</td>\n",
       "      <td>0.00</td>\n",
       "      <td>0.000</td>\n",
       "    </tr>\n",
       "    <tr>\n",
       "      <th>7</th>\n",
       "      <td>Calcium</td>\n",
       "      <td>13.00</td>\n",
       "      <td>13.000</td>\n",
       "    </tr>\n",
       "    <tr>\n",
       "      <th>8</th>\n",
       "      <td>Iron</td>\n",
       "      <td>0.28</td>\n",
       "      <td>0.280</td>\n",
       "    </tr>\n",
       "    <tr>\n",
       "      <th>9</th>\n",
       "      <td>Sodium</td>\n",
       "      <td>0.00</td>\n",
       "      <td>0.000</td>\n",
       "    </tr>\n",
       "    <tr>\n",
       "      <th>10</th>\n",
       "      <td>Potassium</td>\n",
       "      <td>104.00</td>\n",
       "      <td>104.000</td>\n",
       "    </tr>\n",
       "  </tbody>\n",
       "</table>\n",
       "</div>"
      ],
      "text/plain": [
       "         nutrient  min_value  max_value\n",
       "0        Calories     279.00    609.000\n",
       "1        Proteins      10.56     24.900\n",
       "2   Carbohydrates      25.40     56.255\n",
       "3          Sugars       4.04      4.040\n",
       "4           Fibre       1.90      4.750\n",
       "5            Fats       1.28      1.280\n",
       "6        VitaminD       0.00      0.000\n",
       "7         Calcium      13.00     13.000\n",
       "8            Iron       0.28      0.280\n",
       "9          Sodium       0.00      0.000\n",
       "10      Potassium     104.00    104.000"
      ]
     },
     "execution_count": 9,
     "metadata": {},
     "output_type": "execute_result"
    }
   ],
   "source": [
    "user_input"
   ]
  },
  {
   "cell_type": "code",
   "execution_count": 23,
   "id": "89e629b8",
   "metadata": {},
   "outputs": [],
   "source": [
    "#Gives only one food options based on nutrients\n",
    "#preferences for user\n",
    "user_preferences = {'Calories': 120,\n",
    "                    'Proteins': 0.14,\n",
    "                    'Carbohydrates':124.08,\n",
    "                    'Sugars': 4.04,\n",
    "                    'Fibre':2.0,\n",
    "                    'Fats':1.28,\n",
    "                    'VitaminD':0,\n",
    "                    'Calcium':13,\n",
    "                    'Iron':0.28,\n",
    "                    'Sodium':0,\n",
    "                    'Potassium':12}\n",
    "\n",
    "# Predict the meal category based on the user's preferences\n",
    "user_input = pd.DataFrame(user_preferences, index=[0])"
   ]
  },
  {
   "cell_type": "code",
   "execution_count": 15,
   "id": "b39ac563",
   "metadata": {},
   "outputs": [
    {
     "data": {
      "text/html": [
       "<div>\n",
       "<style scoped>\n",
       "    .dataframe tbody tr th:only-of-type {\n",
       "        vertical-align: middle;\n",
       "    }\n",
       "\n",
       "    .dataframe tbody tr th {\n",
       "        vertical-align: top;\n",
       "    }\n",
       "\n",
       "    .dataframe thead th {\n",
       "        text-align: right;\n",
       "    }\n",
       "</style>\n",
       "<table border=\"1\" class=\"dataframe\">\n",
       "  <thead>\n",
       "    <tr style=\"text-align: right;\">\n",
       "      <th></th>\n",
       "      <th>Calories</th>\n",
       "      <th>Proteins</th>\n",
       "      <th>Carbohydrates</th>\n",
       "      <th>Sugars</th>\n",
       "      <th>Fibre</th>\n",
       "      <th>Fats</th>\n",
       "      <th>VitaminD</th>\n",
       "      <th>Calcium</th>\n",
       "      <th>Iron</th>\n",
       "      <th>Sodium</th>\n",
       "      <th>Potassium</th>\n",
       "    </tr>\n",
       "  </thead>\n",
       "  <tbody>\n",
       "    <tr>\n",
       "      <th>0</th>\n",
       "      <td>70</td>\n",
       "      <td>0.14</td>\n",
       "      <td>14.08</td>\n",
       "      <td>4.04</td>\n",
       "      <td>2.0</td>\n",
       "      <td>1.28</td>\n",
       "      <td>0</td>\n",
       "      <td>13</td>\n",
       "      <td>0.28</td>\n",
       "      <td>0</td>\n",
       "      <td>104</td>\n",
       "    </tr>\n",
       "  </tbody>\n",
       "</table>\n",
       "</div>"
      ],
      "text/plain": [
       "   Calories  Proteins  Carbohydrates  Sugars  Fibre  Fats  VitaminD  Calcium  \\\n",
       "0        70      0.14          14.08    4.04    2.0  1.28         0       13   \n",
       "\n",
       "   Iron  Sodium  Potassium  \n",
       "0  0.28       0        104  "
      ]
     },
     "execution_count": 15,
     "metadata": {},
     "output_type": "execute_result"
    }
   ],
   "source": [
    "user_input"
   ]
  },
  {
   "cell_type": "code",
   "execution_count": 37,
   "id": "3fe28168",
   "metadata": {},
   "outputs": [],
   "source": [
    "from sklearn.metrics import accuracy_score, confusion_matrix, classification_report"
   ]
  },
  {
   "cell_type": "code",
   "execution_count": 24,
   "id": "d6cd44aa",
   "metadata": {},
   "outputs": [
    {
     "data": {
      "text/plain": [
       "array(['Sugar substitutes'], dtype=object)"
      ]
     },
     "execution_count": 24,
     "metadata": {},
     "output_type": "execute_result"
    }
   ],
   "source": [
    "predicted_category = tree_classifier.predict(user_input)\n",
    "predicted_category"
   ]
  },
  {
   "cell_type": "code",
   "execution_count": 10,
   "id": "58e033f3",
   "metadata": {},
   "outputs": [
    {
     "name": "stdout",
     "output_type": "stream",
     "text": [
      "Based on your preferences, we recommend the following Pineapple foods:\n",
      "Pineapple\n"
     ]
    }
   ],
   "source": [
    "# Get a list of foods in the predicted category\n",
    "recommended_foods = food_data[food_data['Food_items'] == predicted_category]\n",
    "\n",
    "# Compute the cosine similarity between the user's preferences and the nutritional values of the recommended foods\n",
    "similarity_scores = cosine_similarity(user_input, recommended_foods.drop('Food_items', axis=1))\n",
    "\n",
    "# Get the top 5 recommended foods based on the cosine similarity scores\n",
    "top_recommendations = recommended_foods.iloc[np.argsort(similarity_scores)[0][-5:], :]['Food_items'].values.tolist()\n",
    "\n",
    "# Display the recommended foods to the user\n",
    "print(f\"Based on your preferences, we recommend the following {predicted_category} foods:\")\n",
    "for food in top_recommendations:\n",
    "    print(food)"
   ]
  },
  {
   "cell_type": "code",
   "execution_count": 108,
   "id": "fc21696b",
   "metadata": {},
   "outputs": [
    {
     "name": "stdout",
     "output_type": "stream",
     "text": [
      "For Calories range of 279.0 to 609.0, we recommend ['Flavored milk, whole' 'Not included in a food category'\n",
      " 'Cream cheese, sour cream, whipped cream' 'Cakes and pies' 'Cheese'] foods\n",
      "--------------------------------------------------------------------------------\n",
      "For Proteins range of 10.56 to 24.9, we recommend ['Cheese' 'Cottage/ricotta cheese' 'Pizza' 'Cheese sandwiches'\n",
      " 'Baby food: meat and dinners'] foods\n",
      "--------------------------------------------------------------------------------\n",
      "For Carbohydrates range of 25.4 to 56.254999999999995, we recommend ['Flavored milk, whole' 'Not included in a food category' 'Cakes and pies'\n",
      " 'Cheese sandwiches' 'Deli and cured meat sandwiches'] foods\n",
      "--------------------------------------------------------------------------------\n",
      "For Fibre range of 1.9 to 4.75, we recommend ['Other dark green vegetables' 'Deli and cured meat sandwiches'\n",
      " 'Bean, pea, legume dishes' 'Vegetable dishes'\n",
      " 'Vegetable sandwiches/burgers'] foods\n",
      "--------------------------------------------------------------------------------\n"
     ]
    }
   ],
   "source": [
    "#Gives multiple food options based on nutrients\n",
    "\n",
    "for i, col in enumerate(available_cols):\n",
    "    # Filter the food data by the nutrient range values\n",
    "    if(i==3):\n",
    "        min_value = user_input['min_value'][i+1]\n",
    "        max_value = user_input['max_value'][i+1]\n",
    "    else:\n",
    "        min_value = user_input['min_value'][i]\n",
    "        max_value = user_input['max_value'][i]\n",
    "        \n",
    "    filtered_data = food_data[(food_data[col] >= min_value) & (food_data[col] <= max_value)]\n",
    "    if(filtered_data.empty):\n",
    "        continue\n",
    "    # Predict the meal category based on the user's preferences\n",
    "    predicted_category = tree_classifier.predict(filtered_data.drop('Food_items', axis=1))\n",
    "\n",
    "    # Get a list of foods in the predicted category\n",
    "    recommended_foods = filtered_data[filtered_data['Food_items'] == predicted_category[0]]\n",
    "        \n",
    "    print(f\"For {col} range of {min_value} to {max_value}, we recommend {predicted_category[0:5]} foods\")\n",
    "    print('--------------------------------------------------------------------------------')\n",
    "#     for food in predicted_category:\n",
    "#         print(food)"
   ]
  },
  {
   "cell_type": "code",
   "execution_count": null,
   "id": "626c6929",
   "metadata": {},
   "outputs": [],
   "source": []
  },
  {
   "cell_type": "code",
   "execution_count": null,
   "id": "1273da28",
   "metadata": {},
   "outputs": [],
   "source": []
  }
 ],
 "metadata": {
  "kernelspec": {
   "display_name": "Python 3 (ipykernel)",
   "language": "python",
   "name": "python3"
  },
  "language_info": {
   "codemirror_mode": {
    "name": "ipython",
    "version": 3
   },
   "file_extension": ".py",
   "mimetype": "text/x-python",
   "name": "python",
   "nbconvert_exporter": "python",
   "pygments_lexer": "ipython3",
   "version": "3.9.13"
  }
 },
 "nbformat": 4,
 "nbformat_minor": 5
}
