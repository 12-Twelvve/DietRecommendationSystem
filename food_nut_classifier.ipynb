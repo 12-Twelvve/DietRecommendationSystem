{
 "cells": [
  {
   "cell_type": "code",
   "execution_count": 1,
   "metadata": {},
   "outputs": [],
   "source": [
    "import numpy as np\n",
    "import pandas as pd\n",
    "import matplotlib.pyplot as plt"
   ]
  },
  {
   "cell_type": "code",
   "execution_count": 2,
   "metadata": {},
   "outputs": [],
   "source": [
    "original = pd.read_csv('food_all.csv')"
   ]
  },
  {
   "cell_type": "code",
   "execution_count": 9,
   "metadata": {},
   "outputs": [],
   "source": [
    "cols = [a.split('.')[-1] for a in original.columns ]\n",
    "food_cols = cols[:3]\n",
    "nutrients_cols = cols[2:]"
   ]
  },
  {
   "cell_type": "code",
   "execution_count": 10,
   "metadata": {},
   "outputs": [],
   "source": [
    "df = original.copy()\n",
    "df.columns = cols"
   ]
  },
  {
   "cell_type": "code",
   "execution_count": 11,
   "metadata": {},
   "outputs": [],
   "source": [
    "nutrientsDf = df[nutrients_cols]\n",
    "foodDf = df[food_cols]"
   ]
  },
  {
   "cell_type": "code",
   "execution_count": 13,
   "metadata": {},
   "outputs": [
    {
     "data": {
      "text/html": [
       "<div>\n",
       "<style scoped>\n",
       "    .dataframe tbody tr th:only-of-type {\n",
       "        vertical-align: middle;\n",
       "    }\n",
       "\n",
       "    .dataframe tbody tr th {\n",
       "        vertical-align: top;\n",
       "    }\n",
       "\n",
       "    .dataframe thead th {\n",
       "        text-align: right;\n",
       "    }\n",
       "</style>\n",
       "<table border=\"1\" class=\"dataframe\">\n",
       "  <thead>\n",
       "    <tr style=\"text-align: right;\">\n",
       "      <th></th>\n",
       "      <th>Nutrient Data Bank Number</th>\n",
       "      <th>Alpha Carotene</th>\n",
       "      <th>Ash</th>\n",
       "      <th>Beta Carotene</th>\n",
       "      <th>Beta Cryptoxanthin</th>\n",
       "      <th>Carbohydrate</th>\n",
       "      <th>Cholesterol</th>\n",
       "      <th>Choline</th>\n",
       "      <th>Fiber</th>\n",
       "      <th>Kilocalories</th>\n",
       "      <th>...</th>\n",
       "      <th>Potassium</th>\n",
       "      <th>Sodium</th>\n",
       "      <th>Zinc</th>\n",
       "      <th>Vitamin A - IU</th>\n",
       "      <th>Vitamin A - RAE</th>\n",
       "      <th>Vitamin B12</th>\n",
       "      <th>Vitamin B6</th>\n",
       "      <th>Vitamin C</th>\n",
       "      <th>Vitamin E</th>\n",
       "      <th>Vitamin K</th>\n",
       "    </tr>\n",
       "  </thead>\n",
       "  <tbody>\n",
       "    <tr>\n",
       "      <th>0</th>\n",
       "      <td>1001</td>\n",
       "      <td>0</td>\n",
       "      <td>2.11</td>\n",
       "      <td>158</td>\n",
       "      <td>0</td>\n",
       "      <td>0.06</td>\n",
       "      <td>215</td>\n",
       "      <td>19</td>\n",
       "      <td>0.0</td>\n",
       "      <td>717</td>\n",
       "      <td>...</td>\n",
       "      <td>24</td>\n",
       "      <td>576</td>\n",
       "      <td>0.09</td>\n",
       "      <td>2499</td>\n",
       "      <td>684</td>\n",
       "      <td>0.17</td>\n",
       "      <td>0.003</td>\n",
       "      <td>0.0</td>\n",
       "      <td>2.32</td>\n",
       "      <td>7.0</td>\n",
       "    </tr>\n",
       "    <tr>\n",
       "      <th>1</th>\n",
       "      <td>1002</td>\n",
       "      <td>0</td>\n",
       "      <td>2.11</td>\n",
       "      <td>158</td>\n",
       "      <td>0</td>\n",
       "      <td>0.06</td>\n",
       "      <td>219</td>\n",
       "      <td>19</td>\n",
       "      <td>0.0</td>\n",
       "      <td>717</td>\n",
       "      <td>...</td>\n",
       "      <td>26</td>\n",
       "      <td>827</td>\n",
       "      <td>0.05</td>\n",
       "      <td>2499</td>\n",
       "      <td>684</td>\n",
       "      <td>0.13</td>\n",
       "      <td>0.003</td>\n",
       "      <td>0.0</td>\n",
       "      <td>2.32</td>\n",
       "      <td>7.0</td>\n",
       "    </tr>\n",
       "    <tr>\n",
       "      <th>2</th>\n",
       "      <td>1003</td>\n",
       "      <td>0</td>\n",
       "      <td>0.00</td>\n",
       "      <td>193</td>\n",
       "      <td>0</td>\n",
       "      <td>0.00</td>\n",
       "      <td>256</td>\n",
       "      <td>22</td>\n",
       "      <td>0.0</td>\n",
       "      <td>876</td>\n",
       "      <td>...</td>\n",
       "      <td>5</td>\n",
       "      <td>2</td>\n",
       "      <td>0.01</td>\n",
       "      <td>3069</td>\n",
       "      <td>840</td>\n",
       "      <td>0.01</td>\n",
       "      <td>0.001</td>\n",
       "      <td>0.0</td>\n",
       "      <td>2.80</td>\n",
       "      <td>8.6</td>\n",
       "    </tr>\n",
       "    <tr>\n",
       "      <th>3</th>\n",
       "      <td>1004</td>\n",
       "      <td>0</td>\n",
       "      <td>5.11</td>\n",
       "      <td>74</td>\n",
       "      <td>0</td>\n",
       "      <td>2.34</td>\n",
       "      <td>75</td>\n",
       "      <td>15</td>\n",
       "      <td>0.0</td>\n",
       "      <td>353</td>\n",
       "      <td>...</td>\n",
       "      <td>256</td>\n",
       "      <td>1395</td>\n",
       "      <td>2.66</td>\n",
       "      <td>763</td>\n",
       "      <td>198</td>\n",
       "      <td>1.22</td>\n",
       "      <td>0.166</td>\n",
       "      <td>0.0</td>\n",
       "      <td>0.25</td>\n",
       "      <td>2.4</td>\n",
       "    </tr>\n",
       "    <tr>\n",
       "      <th>4</th>\n",
       "      <td>1005</td>\n",
       "      <td>0</td>\n",
       "      <td>3.18</td>\n",
       "      <td>76</td>\n",
       "      <td>0</td>\n",
       "      <td>2.79</td>\n",
       "      <td>94</td>\n",
       "      <td>15</td>\n",
       "      <td>0.0</td>\n",
       "      <td>371</td>\n",
       "      <td>...</td>\n",
       "      <td>136</td>\n",
       "      <td>560</td>\n",
       "      <td>2.60</td>\n",
       "      <td>1080</td>\n",
       "      <td>292</td>\n",
       "      <td>1.26</td>\n",
       "      <td>0.065</td>\n",
       "      <td>0.0</td>\n",
       "      <td>0.26</td>\n",
       "      <td>2.5</td>\n",
       "    </tr>\n",
       "  </tbody>\n",
       "</table>\n",
       "<p>5 rows × 46 columns</p>\n",
       "</div>"
      ],
      "text/plain": [
       "   Nutrient Data Bank Number  Alpha Carotene   Ash  Beta Carotene  \\\n",
       "0                       1001               0  2.11            158   \n",
       "1                       1002               0  2.11            158   \n",
       "2                       1003               0  0.00            193   \n",
       "3                       1004               0  5.11             74   \n",
       "4                       1005               0  3.18             76   \n",
       "\n",
       "   Beta Cryptoxanthin  Carbohydrate  Cholesterol  Choline  Fiber  \\\n",
       "0                   0          0.06          215       19    0.0   \n",
       "1                   0          0.06          219       19    0.0   \n",
       "2                   0          0.00          256       22    0.0   \n",
       "3                   0          2.34           75       15    0.0   \n",
       "4                   0          2.79           94       15    0.0   \n",
       "\n",
       "   Kilocalories  ...  Potassium  Sodium  Zinc  Vitamin A - IU  \\\n",
       "0           717  ...         24     576  0.09            2499   \n",
       "1           717  ...         26     827  0.05            2499   \n",
       "2           876  ...          5       2  0.01            3069   \n",
       "3           353  ...        256    1395  2.66             763   \n",
       "4           371  ...        136     560  2.60            1080   \n",
       "\n",
       "   Vitamin A - RAE  Vitamin B12  Vitamin B6  Vitamin C  Vitamin E  Vitamin K  \n",
       "0              684         0.17       0.003        0.0       2.32        7.0  \n",
       "1              684         0.13       0.003        0.0       2.32        7.0  \n",
       "2              840         0.01       0.001        0.0       2.80        8.6  \n",
       "3              198         1.22       0.166        0.0       0.25        2.4  \n",
       "4              292         1.26       0.065        0.0       0.26        2.5  \n",
       "\n",
       "[5 rows x 46 columns]"
      ]
     },
     "execution_count": 13,
     "metadata": {},
     "output_type": "execute_result"
    }
   ],
   "source": [
    "foodDf.head()\n",
    "nutrientsDf.head()"
   ]
  },
  {
   "cell_type": "code",
   "execution_count": 64,
   "metadata": {},
   "outputs": [],
   "source": [
    "# ================================\n",
    "# clustering k-means"
   ]
  },
  {
   "cell_type": "code",
   "execution_count": 69,
   "metadata": {},
   "outputs": [],
   "source": [
    "X = nutrientsDf.iloc[:, 1:]\n",
    "X.head()\n",
    "from sklearn import preprocessing\n",
    "X_t = X.select_dtypes(\"number\")\n",
    "X_t = preprocessing.normalize(X_t)\n",
    "X_a = np.array(X_t)"
   ]
  },
  {
   "cell_type": "code",
   "execution_count": 70,
   "metadata": {},
   "outputs": [],
   "source": [
    "from sklearn.cluster import KMeans\n",
    "cluster = KMeans(n_clusters=5, init='k-means++', \n",
    "                 max_iter=300, \n",
    "                 tol=0.0001, verbose=0, random_state=0, \n",
    "                 copy_x=True, algorithm='elkan').fit(X_a)"
   ]
  },
  {
   "cell_type": "code",
   "execution_count": 71,
   "metadata": {},
   "outputs": [],
   "source": [
    "outLabels = cluster.labels_"
   ]
  },
  {
   "cell_type": "code",
   "execution_count": 72,
   "metadata": {},
   "outputs": [
    {
     "data": {
      "text/plain": [
       "0.29750231797294857"
      ]
     },
     "execution_count": 72,
     "metadata": {},
     "output_type": "execute_result"
    }
   ],
   "source": [
    "from sklearn.metrics import silhouette_score\n",
    "\n",
    "silhouette_score(X_a, cluster.labels_, metric='euclidean')"
   ]
  },
  {
   "cell_type": "code",
   "execution_count": 90,
   "metadata": {},
   "outputs": [],
   "source": [
    "K = range(3,10)\n",
    "fits = []\n",
    "score = []\n",
    "for k in K:\n",
    "    # train the model for current value of k on training data\n",
    "    model = KMeans(n_clusters = k,init='k-means++', random_state = 0).fit(X_a)\n",
    "    # append the model to fits\n",
    "    fits.append(model)\n",
    "    # Append the silhouette score to scores\n",
    "    score.append(silhouette_score(X_a, model.labels_, metric='euclidean'))"
   ]
  },
  {
   "cell_type": "code",
   "execution_count": 91,
   "metadata": {},
   "outputs": [
    {
     "data": {
      "text/plain": [
       "<AxesSubplot:>"
      ]
     },
     "execution_count": 91,
     "metadata": {},
     "output_type": "execute_result"
    },
    {
     "data": {
      "image/png": "[encoded data removed]",
      "text/plain": [
       "<Figure size 640x480 with 1 Axes>"
      ]
     },
     "metadata": {},
     "output_type": "display_data"
    }
   ],
   "source": [
    "import seaborn as sns\n",
    "sns.lineplot(x = K, y = score)"
   ]
  },
  {
   "cell_type": "code",
   "execution_count": 92,
   "metadata": {},
   "outputs": [],
   "source": [
    "cluster = KMeans(n_clusters=8, init='k-means++', \n",
    "                 max_iter=300, \n",
    "                 tol=0.0001, verbose=0, random_state=0, \n",
    "                 copy_x=True, algorithm='elkan').fit(X_a)"
   ]
  },
  {
   "cell_type": "code",
   "execution_count": 100,
   "metadata": {},
   "outputs": [
    {
     "data": {
      "text/plain": [
       "(7413,)"
      ]
     },
     "execution_count": 100,
     "metadata": {},
     "output_type": "execute_result"
    }
   ],
   "source": [
    "cluster.labels_.shape"
   ]
  },
  {
   "cell_type": "code",
   "execution_count": 102,
   "metadata": {},
   "outputs": [
    {
     "data": {
      "image/png": "[encoded data removed]",
      "text/plain": [
       "<Figure size 640x480 with 1 Axes>"
      ]
     },
     "metadata": {},
     "output_type": "display_data"
    }
   ],
   "source": [
    "fig, ax = plt.subplots()\n",
    "ax.hist(cluster.labels_, bins=8)\n",
    "ax.set_title('Histogram of labels')\n",
    "ax.set_xlabel('Clusters')\n",
    "ax.set_ylabel('Frequency')\n",
    "plt.show()"
   ]
  },
  {
   "cell_type": "code",
   "execution_count": null,
   "metadata": {},
   "outputs": [],
   "source": []
  }
 ],
 "metadata": {
  "kernelspec": {
   "display_name": "base",
   "language": "python",
   "name": "python3"
  },
  "language_info": {
   "codemirror_mode": {
    "name": "ipython",
    "version": 3
   },
   "file_extension": ".py",
   "mimetype": "text/x-python",
   "name": "python",
   "nbconvert_exporter": "python",
   "pygments_lexer": "ipython3",
   "version": "3.9.13"
  },
  "orig_nbformat": 4
 },
 "nbformat": 4,
 "nbformat_minor": 2
}
