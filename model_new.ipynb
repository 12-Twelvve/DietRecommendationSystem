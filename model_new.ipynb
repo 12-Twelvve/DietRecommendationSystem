{
 "cells": [
  {
   "cell_type": "code",
   "execution_count": 78,
   "id": "636d0919",
   "metadata": {},
   "outputs": [],
   "source": [
    "import numpy as np\n",
    "import pandas as pd\n",
    "import matplotlib.pyplot as plt\n",
    "\n",
    "from sklearn.ensemble import RandomForestClassifier\n",
    "from sklearn.datasets import make_classification\n",
    "from sklearn.model_selection import train_test_split\n",
    "from sklearn.metrics import accuracy_score, f1_score\n",
    "from sklearn.metrics.pairwise import cosine_similarity\n",
    "\n",
    "import warnings\n",
    "warnings.filterwarnings('ignore')"
   ]
  },
  {
   "cell_type": "code",
   "execution_count": 79,
   "id": "efdeab02",
   "metadata": {},
   "outputs": [],
   "source": [
    "def calculate_bmi(height, weight):\n",
    "    height /= 100\n",
    "    bmi = weight/np.square(height)\n",
    "    return round(bmi,2)"
   ]
  },
  {
   "cell_type": "code",
   "execution_count": 80,
   "id": "a32919c8",
   "metadata": {},
   "outputs": [],
   "source": [
    "def get_min_max(col_name, df):\n",
    "    q1 = df[col_name].quantile(0.25)\n",
    "    q3 = df[col_name].quantile(0.75)\n",
    "    iqr = q3-q1\n",
    "    q_min = q1-(1.5*iqr)\n",
    "    q_max = q3+(1.5*iqr)\n",
    "\n",
    "    return q_min,q1,q3,q_max    \n"
   ]
  },
  {
   "cell_type": "code",
   "execution_count": null,
   "id": "66d688c0",
   "metadata": {},
   "outputs": [],
   "source": []
  },
  {
   "cell_type": "code",
   "execution_count": 81,
   "id": "028268f1",
   "metadata": {},
   "outputs": [
    {
     "name": "stdout",
     "output_type": "stream",
     "text": [
      "<class 'pandas.core.frame.DataFrame'>\n",
      "RangeIndex: 169 entries, 0 to 168\n",
      "Data columns (total 12 columns):\n",
      " #   Column         Non-Null Count  Dtype  \n",
      "---  ------         --------------  -----  \n",
      " 0   Food_items     169 non-null    object \n",
      " 1   Calories       169 non-null    int64  \n",
      " 2   Proteins       169 non-null    float64\n",
      " 3   Carbohydrates  169 non-null    float64\n",
      " 4   Sugars         169 non-null    float64\n",
      " 5   Fibre          169 non-null    float64\n",
      " 6   Fats           169 non-null    float64\n",
      " 7   VitaminD       169 non-null    float64\n",
      " 8   Calcium        169 non-null    int64  \n",
      " 9   Iron           169 non-null    float64\n",
      " 10  Sodium         169 non-null    int64  \n",
      " 11  Potassium      169 non-null    int64  \n",
      "dtypes: float64(7), int64(4), object(1)\n",
      "memory usage: 16.0+ KB\n"
     ]
    }
   ],
   "source": [
    "food_df = pd.read_csv('food_new.csv')\n",
    "food_df.info()\n"
   ]
  },
  {
   "cell_type": "code",
   "execution_count": 82,
   "id": "4f155ce1",
   "metadata": {},
   "outputs": [],
   "source": [
    "# Load the food dataset\n",
    "food_data = pd.read_csv('food_new.csv')\n",
    "\n",
    "\n",
    "# Split the data into features (nutritional values) and target variable (food category)\n",
    "X = food_data.drop('Food_items', axis=1)\n",
    "y = food_data['Food_items']\n"
   ]
  },
  {
   "cell_type": "code",
   "execution_count": 83,
   "id": "e83893d5",
   "metadata": {},
   "outputs": [
    {
     "data": {
      "text/plain": [
       "RandomForestClassifier(random_state=42)"
      ]
     },
     "execution_count": 83,
     "metadata": {},
     "output_type": "execute_result"
    }
   ],
   "source": [
    "# Create a random forest classifier with 100 trees and train it on the entire dataset\n",
    "tree_classifier = RandomForestClassifier(n_estimators=100, random_state=42)\n",
    "tree_classifier.fit(X, y)"
   ]
  },
  {
   "cell_type": "code",
   "execution_count": 32,
   "id": "64818983",
   "metadata": {},
   "outputs": [],
   "source": [
    "#bmi < 18.5 underweight -> 0\n",
    "#bmi between 18.5 and 24.9 normal weight ->1\n",
    "#bmi > 25 overweight / obese ->2\n",
    "\n",
    "#Underweight high proteins,carbohydrates, calories\n",
    "#overweight low calories,fats high proteins,fibre\n",
    "#normal balanced amount of nutrients\n"
   ]
  },
  {
   "cell_type": "code",
   "execution_count": 84,
   "id": "0f189b85",
   "metadata": {},
   "outputs": [
    {
     "name": "stdout",
     "output_type": "stream",
     "text": [
      "         nutrient  min_value  max_value\n",
      "0        Calories      61.00      61.00\n",
      "1        Proteins       0.14       0.14\n",
      "2   Carbohydrates      14.08      14.08\n",
      "3          Sugars       4.04       4.04\n",
      "4           Fibre       2.00       2.00\n",
      "5            Fats       1.28       1.28\n",
      "6        VitaminD       0.00       0.00\n",
      "7         Calcium      13.00      13.00\n",
      "8            Iron       0.28       0.28\n",
      "9          Sodium       0.00       0.00\n",
      "10      Potassium     104.00     104.00\n"
     ]
    }
   ],
   "source": [
    "user_input = pd.DataFrame({\n",
    "    'nutrient': ['Calories','Proteins', 'Carbohydrates', 'Sugars', 'Fibre', 'Fats','VitaminD', 'Calcium', 'Iron', 'Sodium', 'Potassium'],\n",
    "    'min_value': [61, 0.14, 14.08, 4.04, 2.0 ,1.28, 0, 13, 0.28, 0, 104],\n",
    "    'max_value': [61, 0.14, 14.08, 4.04, 2.0 ,1.28, 0, 13, 0.28, 0, 104]\n",
    "})\n",
    "\n",
    "print(user_input)"
   ]
  },
  {
   "cell_type": "code",
   "execution_count": 95,
   "id": "159db546",
   "metadata": {},
   "outputs": [],
   "source": [
    "bmi = calculate_bmi(172,49)\n",
    "weight = 0\n",
    "if(bmi<18.5):\n",
    "    weight = 0\n",
    "elif(bmi>=18.5 and bmi<=24.9):\n",
    "    weight = 1\n",
    "else:\n",
    "    weight = 2\n",
    "    \n",
    "available_cols = ['Calories', 'Proteins', 'Carbohydrates', 'Fibre']  #0 1 2 4\n",
    "if(weight == 0):\n",
    "    for i, col in enumerate(available_cols):\n",
    "        q_min,q1,q3,q_max = get_min_max(col, food_data)\n",
    "        if(i == 3):\n",
    "            user_input['min_value'][i+1] = q3\n",
    "            user_input['max_value'][i+1] = q_max\n",
    "        else:\n",
    "            user_input['min_value'][i] = q3\n",
    "            user_input['max_value'][i] = q_max\n",
    "elif(weight == 1):\n",
    "    for i, col in enumerate(available_cols):\n",
    "        q_min,q1,q3,q_max = get_min_max(col, food_data)\n",
    "        if(i == 3):\n",
    "            user_input['min_value'][i+1] = q1\n",
    "            user_input['max_value'][i+1] = q3\n",
    "        else:\n",
    "            user_input['min_value'][i] = q1\n",
    "            user_input['max_value'][i] = q3\n",
    "else:\n",
    "    for i, col in enumerate(available_cols):\n",
    "        q_min,q1,q3,q_max = get_min_max(col, food_data)\n",
    "        if(i == 3):\n",
    "            user_input['min_value'][i+1] = q_min\n",
    "            user_input['max_value'][i+1] = q1\n",
    "        else:\n",
    "            user_input['min_value'][i] = q_min\n",
    "            user_input['max_value'][i] = q1\n",
    "\n",
    "    "
   ]
  },
  {
   "cell_type": "code",
   "execution_count": 96,
   "id": "588b0d97",
   "metadata": {},
   "outputs": [
    {
     "data": {
      "text/html": [
       "<div>\n",
       "<style scoped>\n",
       "    .dataframe tbody tr th:only-of-type {\n",
       "        vertical-align: middle;\n",
       "    }\n",
       "\n",
       "    .dataframe tbody tr th {\n",
       "        vertical-align: top;\n",
       "    }\n",
       "\n",
       "    .dataframe thead th {\n",
       "        text-align: right;\n",
       "    }\n",
       "</style>\n",
       "<table border=\"1\" class=\"dataframe\">\n",
       "  <thead>\n",
       "    <tr style=\"text-align: right;\">\n",
       "      <th></th>\n",
       "      <th>nutrient</th>\n",
       "      <th>min_value</th>\n",
       "      <th>max_value</th>\n",
       "    </tr>\n",
       "  </thead>\n",
       "  <tbody>\n",
       "    <tr>\n",
       "      <th>0</th>\n",
       "      <td>Calories</td>\n",
       "      <td>279.00</td>\n",
       "      <td>609.000</td>\n",
       "    </tr>\n",
       "    <tr>\n",
       "      <th>1</th>\n",
       "      <td>Proteins</td>\n",
       "      <td>10.56</td>\n",
       "      <td>24.900</td>\n",
       "    </tr>\n",
       "    <tr>\n",
       "      <th>2</th>\n",
       "      <td>Carbohydrates</td>\n",
       "      <td>25.40</td>\n",
       "      <td>56.255</td>\n",
       "    </tr>\n",
       "    <tr>\n",
       "      <th>3</th>\n",
       "      <td>Sugars</td>\n",
       "      <td>4.04</td>\n",
       "      <td>4.040</td>\n",
       "    </tr>\n",
       "    <tr>\n",
       "      <th>4</th>\n",
       "      <td>Fibre</td>\n",
       "      <td>1.90</td>\n",
       "      <td>4.750</td>\n",
       "    </tr>\n",
       "    <tr>\n",
       "      <th>5</th>\n",
       "      <td>Fats</td>\n",
       "      <td>1.28</td>\n",
       "      <td>1.280</td>\n",
       "    </tr>\n",
       "    <tr>\n",
       "      <th>6</th>\n",
       "      <td>VitaminD</td>\n",
       "      <td>0.00</td>\n",
       "      <td>0.000</td>\n",
       "    </tr>\n",
       "    <tr>\n",
       "      <th>7</th>\n",
       "      <td>Calcium</td>\n",
       "      <td>13.00</td>\n",
       "      <td>13.000</td>\n",
       "    </tr>\n",
       "    <tr>\n",
       "      <th>8</th>\n",
       "      <td>Iron</td>\n",
       "      <td>0.28</td>\n",
       "      <td>0.280</td>\n",
       "    </tr>\n",
       "    <tr>\n",
       "      <th>9</th>\n",
       "      <td>Sodium</td>\n",
       "      <td>0.00</td>\n",
       "      <td>0.000</td>\n",
       "    </tr>\n",
       "    <tr>\n",
       "      <th>10</th>\n",
       "      <td>Potassium</td>\n",
       "      <td>104.00</td>\n",
       "      <td>104.000</td>\n",
       "    </tr>\n",
       "  </tbody>\n",
       "</table>\n",
       "</div>"
      ],
      "text/plain": [
       "         nutrient  min_value  max_value\n",
       "0        Calories     279.00    609.000\n",
       "1        Proteins      10.56     24.900\n",
       "2   Carbohydrates      25.40     56.255\n",
       "3          Sugars       4.04      4.040\n",
       "4           Fibre       1.90      4.750\n",
       "5            Fats       1.28      1.280\n",
       "6        VitaminD       0.00      0.000\n",
       "7         Calcium      13.00     13.000\n",
       "8            Iron       0.28      0.280\n",
       "9          Sodium       0.00      0.000\n",
       "10      Potassium     104.00    104.000"
      ]
     },
     "execution_count": 96,
     "metadata": {},
     "output_type": "execute_result"
    }
   ],
   "source": [
    "user_input"
   ]
  },
  {
   "cell_type": "code",
   "execution_count": 27,
   "id": "58e033f3",
   "metadata": {},
   "outputs": [
    {
     "name": "stdout",
     "output_type": "stream",
     "text": [
      "Based on your preferences, we recommend the following Pineapple foods:\n",
      "Pineapple\n"
     ]
    }
   ],
   "source": [
    "#Gives only one food options based on nutrients\n",
    "#preferences for user\n",
    "user_preferences = {'Calories': 61,\n",
    "                    'Proteins': 0.14,\n",
    "                    'Carbohydrates':14.08,\n",
    "                    'Sugars': 4.04,\n",
    "                    'Fibre':2.0,\n",
    "                    'Fats':1.28,\n",
    "                    'VitaminD':0,\n",
    "                    'Calcium':13,\n",
    "                    'Iron':0.28,\n",
    "                    'Sodium':0,\n",
    "                    'Potassium':104}\n",
    "\n",
    "# Predict the meal category based on the user's preferences\n",
    "user_input = pd.DataFrame(user_preferences, index=[0])\n",
    "predicted_category = tree_classifier.predict(user_input)[0]\n",
    "\n",
    "# Get a list of foods in the predicted category\n",
    "recommended_foods = food_data[food_data['Food_items'] == predicted_category]\n",
    "\n",
    "# Compute the cosine similarity between the user's preferences and the nutritional values of the recommended foods\n",
    "similarity_scores = cosine_similarity(user_input, recommended_foods.drop('Food_items', axis=1))\n",
    "\n",
    "# Get the top 5 recommended foods based on the cosine similarity scores\n",
    "top_recommendations = recommended_foods.iloc[np.argsort(similarity_scores)[0][-5:], :]['Food_items'].values.tolist()\n",
    "\n",
    "# Display the recommended foods to the user\n",
    "print(f\"Based on your preferences, we recommend the following {predicted_category} foods:\")\n",
    "for food in top_recommendations:\n",
    "    print(food)"
   ]
  },
  {
   "cell_type": "code",
   "execution_count": 108,
   "id": "fc21696b",
   "metadata": {},
   "outputs": [
    {
     "name": "stdout",
     "output_type": "stream",
     "text": [
      "For Calories range of 279.0 to 609.0, we recommend ['Flavored milk, whole' 'Not included in a food category'\n",
      " 'Cream cheese, sour cream, whipped cream' 'Cakes and pies' 'Cheese'] foods\n",
      "--------------------------------------------------------------------------------\n",
      "For Proteins range of 10.56 to 24.9, we recommend ['Cheese' 'Cottage/ricotta cheese' 'Pizza' 'Cheese sandwiches'\n",
      " 'Baby food: meat and dinners'] foods\n",
      "--------------------------------------------------------------------------------\n",
      "For Carbohydrates range of 25.4 to 56.254999999999995, we recommend ['Flavored milk, whole' 'Not included in a food category' 'Cakes and pies'\n",
      " 'Cheese sandwiches' 'Deli and cured meat sandwiches'] foods\n",
      "--------------------------------------------------------------------------------\n",
      "For Fibre range of 1.9 to 4.75, we recommend ['Other dark green vegetables' 'Deli and cured meat sandwiches'\n",
      " 'Bean, pea, legume dishes' 'Vegetable dishes'\n",
      " 'Vegetable sandwiches/burgers'] foods\n",
      "--------------------------------------------------------------------------------\n"
     ]
    }
   ],
   "source": [
    "#Gives multiple food options based on nutrients\n",
    "\n",
    "for i, col in enumerate(available_cols):\n",
    "    # Filter the food data by the nutrient range values\n",
    "    if(i==3):\n",
    "        min_value = user_input['min_value'][i+1]\n",
    "        max_value = user_input['max_value'][i+1]\n",
    "    else:\n",
    "        min_value = user_input['min_value'][i]\n",
    "        max_value = user_input['max_value'][i]\n",
    "        \n",
    "    filtered_data = food_data[(food_data[col] >= min_value) & (food_data[col] <= max_value)]\n",
    "    if(filtered_data.empty):\n",
    "        continue\n",
    "    # Predict the meal category based on the user's preferences\n",
    "    predicted_category = tree_classifier.predict(filtered_data.drop('Food_items', axis=1))\n",
    "\n",
    "    # Get a list of foods in the predicted category\n",
    "    recommended_foods = filtered_data[filtered_data['Food_items'] == predicted_category[0]]\n",
    "        \n",
    "    print(f\"For {col} range of {min_value} to {max_value}, we recommend {predicted_category[0:5]} foods\")\n",
    "    print('--------------------------------------------------------------------------------')\n",
    "#     for food in predicted_category:\n",
    "#         print(food)"
   ]
  },
  {
   "cell_type": "code",
   "execution_count": null,
   "id": "626c6929",
   "metadata": {},
   "outputs": [],
   "source": []
  },
  {
   "cell_type": "code",
   "execution_count": null,
   "id": "1273da28",
   "metadata": {},
   "outputs": [],
   "source": []
  }
 ],
 "metadata": {
  "kernelspec": {
   "display_name": "Python 3 (ipykernel)",
   "language": "python",
   "name": "python3"
  },
  "language_info": {
   "codemirror_mode": {
    "name": "ipython",
    "version": 3
   },
   "file_extension": ".py",
   "mimetype": "text/x-python",
   "name": "python",
   "nbconvert_exporter": "python",
   "pygments_lexer": "ipython3",
   "version": "3.9.13"
  }
 },
 "nbformat": 4,
 "nbformat_minor": 5
}
